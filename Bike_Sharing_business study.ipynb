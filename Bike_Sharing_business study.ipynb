{
 "cells": [
  {
   "cell_type": "markdown",
   "metadata": {},
   "source": [
    "# Bike Sharing Assignment\n",
    "##### - By Vivek Shand"
   ]
  },
  {
   "cell_type": "code",
   "execution_count": 1,
   "metadata": {},
   "outputs": [],
   "source": [
    "import warnings\n",
    "warnings.filterwarnings('ignore')\n",
    "import pandas as pd\n",
    "import numpy as np\n",
    "import matplotlib.pyplot as plt\n",
    "import seaborn as sns"
   ]
  },
  {
   "cell_type": "code",
   "execution_count": 2,
   "metadata": {},
   "outputs": [],
   "source": [
    "import numpy as np\n",
    "import pandas as pd\n",
    "import matplotlib.pyplot as plt\n",
    "import seaborn as sns\n",
    "\n",
    "import statsmodels\n",
    "import statsmodels. api as sm\n",
    "import sklearn\n",
    "from sklearn.model_selection import train_test_split\n",
    "from sklearn.preprocessing import MinMaxScaler\n",
    "from sklearn.metrics import mean_squared_error\n",
    "from sklearn.metrics import r2_score\n",
    "from sklearn.linear_model import LinearRegression\n",
    "from sklearn.metrics import r2_score\n",
    "import statsmodels.api as sm\n",
    "from statsmodels.stats.outliers_influence import variance_inflation_factor\n",
    "import warnings\n",
    "warnings.filterwarnings('ignore')"
   ]
  },
  {
   "cell_type": "markdown",
   "metadata": {},
   "source": [
    "# Reading the file"
   ]
  },
  {
   "cell_type": "code",
   "execution_count": 3,
   "metadata": {
    "scrolled": false
   },
   "outputs": [
    {
     "data": {
      "text/html": [
       "<div>\n",
       "<style scoped>\n",
       "    .dataframe tbody tr th:only-of-type {\n",
       "        vertical-align: middle;\n",
       "    }\n",
       "\n",
       "    .dataframe tbody tr th {\n",
       "        vertical-align: top;\n",
       "    }\n",
       "\n",
       "    .dataframe thead th {\n",
       "        text-align: right;\n",
       "    }\n",
       "</style>\n",
       "<table border=\"1\" class=\"dataframe\">\n",
       "  <thead>\n",
       "    <tr style=\"text-align: right;\">\n",
       "      <th></th>\n",
       "      <th>Sr_no</th>\n",
       "      <th>Make</th>\n",
       "      <th>Model</th>\n",
       "      <th>Variant</th>\n",
       "      <th>Ex-Showroom_Price</th>\n",
       "      <th>Displacement</th>\n",
       "      <th>Cylinders</th>\n",
       "      <th>Valves_Per_Cylinder</th>\n",
       "      <th>Drivetrain</th>\n",
       "      <th>Cylinder_Configuration</th>\n",
       "      <th>...</th>\n",
       "      <th>Leather_Wrapped_Steering</th>\n",
       "      <th>Automatic_Headlamps</th>\n",
       "      <th>Engine_Type</th>\n",
       "      <th>ASR_/_Traction_Control</th>\n",
       "      <th>Cruise_Control</th>\n",
       "      <th>USB_Ports</th>\n",
       "      <th>Heads-Up_Display</th>\n",
       "      <th>Welcome_Lights</th>\n",
       "      <th>Battery</th>\n",
       "      <th>Electric_Range</th>\n",
       "    </tr>\n",
       "  </thead>\n",
       "  <tbody>\n",
       "    <tr>\n",
       "      <th>0</th>\n",
       "      <td>0</td>\n",
       "      <td>Tata</td>\n",
       "      <td>Nano Genx</td>\n",
       "      <td>Xt</td>\n",
       "      <td>292667</td>\n",
       "      <td>624</td>\n",
       "      <td>2.0</td>\n",
       "      <td>2.0</td>\n",
       "      <td>RWD (Rear Wheel Drive)</td>\n",
       "      <td>In-line</td>\n",
       "      <td>...</td>\n",
       "      <td>NaN</td>\n",
       "      <td>NaN</td>\n",
       "      <td>NaN</td>\n",
       "      <td>NaN</td>\n",
       "      <td>NaN</td>\n",
       "      <td>NaN</td>\n",
       "      <td>NaN</td>\n",
       "      <td>NaN</td>\n",
       "      <td>NaN</td>\n",
       "      <td>NaN</td>\n",
       "    </tr>\n",
       "    <tr>\n",
       "      <th>1</th>\n",
       "      <td>1</td>\n",
       "      <td>Tata</td>\n",
       "      <td>Nano Genx</td>\n",
       "      <td>Xe</td>\n",
       "      <td>236447</td>\n",
       "      <td>624</td>\n",
       "      <td>2.0</td>\n",
       "      <td>2.0</td>\n",
       "      <td>RWD (Rear Wheel Drive)</td>\n",
       "      <td>In-line</td>\n",
       "      <td>...</td>\n",
       "      <td>NaN</td>\n",
       "      <td>NaN</td>\n",
       "      <td>NaN</td>\n",
       "      <td>NaN</td>\n",
       "      <td>NaN</td>\n",
       "      <td>NaN</td>\n",
       "      <td>NaN</td>\n",
       "      <td>NaN</td>\n",
       "      <td>NaN</td>\n",
       "      <td>NaN</td>\n",
       "    </tr>\n",
       "    <tr>\n",
       "      <th>2</th>\n",
       "      <td>2</td>\n",
       "      <td>Tata</td>\n",
       "      <td>Nano Genx</td>\n",
       "      <td>Emax Xm</td>\n",
       "      <td>296661</td>\n",
       "      <td>624</td>\n",
       "      <td>2.0</td>\n",
       "      <td>2.0</td>\n",
       "      <td>RWD (Rear Wheel Drive)</td>\n",
       "      <td>In-line</td>\n",
       "      <td>...</td>\n",
       "      <td>NaN</td>\n",
       "      <td>NaN</td>\n",
       "      <td>NaN</td>\n",
       "      <td>NaN</td>\n",
       "      <td>NaN</td>\n",
       "      <td>NaN</td>\n",
       "      <td>NaN</td>\n",
       "      <td>NaN</td>\n",
       "      <td>NaN</td>\n",
       "      <td>NaN</td>\n",
       "    </tr>\n",
       "    <tr>\n",
       "      <th>3</th>\n",
       "      <td>3</td>\n",
       "      <td>Tata</td>\n",
       "      <td>Nano Genx</td>\n",
       "      <td>Xta</td>\n",
       "      <td>334768</td>\n",
       "      <td>624</td>\n",
       "      <td>2.0</td>\n",
       "      <td>2.0</td>\n",
       "      <td>RWD (Rear Wheel Drive)</td>\n",
       "      <td>In-line</td>\n",
       "      <td>...</td>\n",
       "      <td>NaN</td>\n",
       "      <td>NaN</td>\n",
       "      <td>NaN</td>\n",
       "      <td>NaN</td>\n",
       "      <td>NaN</td>\n",
       "      <td>NaN</td>\n",
       "      <td>NaN</td>\n",
       "      <td>NaN</td>\n",
       "      <td>NaN</td>\n",
       "      <td>NaN</td>\n",
       "    </tr>\n",
       "    <tr>\n",
       "      <th>4</th>\n",
       "      <td>4</td>\n",
       "      <td>Tata</td>\n",
       "      <td>Nano Genx</td>\n",
       "      <td>Xm</td>\n",
       "      <td>272223</td>\n",
       "      <td>624</td>\n",
       "      <td>2.0</td>\n",
       "      <td>2.0</td>\n",
       "      <td>RWD (Rear Wheel Drive)</td>\n",
       "      <td>In-line</td>\n",
       "      <td>...</td>\n",
       "      <td>NaN</td>\n",
       "      <td>NaN</td>\n",
       "      <td>NaN</td>\n",
       "      <td>NaN</td>\n",
       "      <td>NaN</td>\n",
       "      <td>NaN</td>\n",
       "      <td>NaN</td>\n",
       "      <td>NaN</td>\n",
       "      <td>NaN</td>\n",
       "      <td>NaN</td>\n",
       "    </tr>\n",
       "  </tbody>\n",
       "</table>\n",
       "<p>5 rows × 141 columns</p>\n",
       "</div>"
      ],
      "text/plain": [
       "   Sr_no  Make      Model  Variant  Ex-Showroom_Price Displacement  Cylinders  \\\n",
       "0      0  Tata  Nano Genx       Xt             292667          624        2.0   \n",
       "1      1  Tata  Nano Genx       Xe             236447          624        2.0   \n",
       "2      2  Tata  Nano Genx  Emax Xm             296661          624        2.0   \n",
       "3      3  Tata  Nano Genx      Xta             334768          624        2.0   \n",
       "4      4  Tata  Nano Genx       Xm             272223          624        2.0   \n",
       "\n",
       "   Valves_Per_Cylinder              Drivetrain Cylinder_Configuration  ...  \\\n",
       "0                  2.0  RWD (Rear Wheel Drive)                In-line  ...   \n",
       "1                  2.0  RWD (Rear Wheel Drive)                In-line  ...   \n",
       "2                  2.0  RWD (Rear Wheel Drive)                In-line  ...   \n",
       "3                  2.0  RWD (Rear Wheel Drive)                In-line  ...   \n",
       "4                  2.0  RWD (Rear Wheel Drive)                In-line  ...   \n",
       "\n",
       "  Leather_Wrapped_Steering Automatic_Headlamps Engine_Type  \\\n",
       "0                      NaN                 NaN         NaN   \n",
       "1                      NaN                 NaN         NaN   \n",
       "2                      NaN                 NaN         NaN   \n",
       "3                      NaN                 NaN         NaN   \n",
       "4                      NaN                 NaN         NaN   \n",
       "\n",
       "  ASR_/_Traction_Control Cruise_Control USB_Ports  Heads-Up_Display  \\\n",
       "0                    NaN            NaN       NaN               NaN   \n",
       "1                    NaN            NaN       NaN               NaN   \n",
       "2                    NaN            NaN       NaN               NaN   \n",
       "3                    NaN            NaN       NaN               NaN   \n",
       "4                    NaN            NaN       NaN               NaN   \n",
       "\n",
       "  Welcome_Lights Battery  Electric_Range  \n",
       "0            NaN     NaN             NaN  \n",
       "1            NaN     NaN             NaN  \n",
       "2            NaN     NaN             NaN  \n",
       "3            NaN     NaN             NaN  \n",
       "4            NaN     NaN             NaN  \n",
       "\n",
       "[5 rows x 141 columns]"
      ]
     },
     "execution_count": 3,
     "metadata": {},
     "output_type": "execute_result"
    }
   ],
   "source": [
    "df=pd.read_csv('Downloads\\\\cars_ds_final_2.csv')\n",
    "df.head() "
   ]
  },
  {
   "cell_type": "code",
   "execution_count": 4,
   "metadata": {},
   "outputs": [
    {
     "data": {
      "text/html": [
       "<div>\n",
       "<style scoped>\n",
       "    .dataframe tbody tr th:only-of-type {\n",
       "        vertical-align: middle;\n",
       "    }\n",
       "\n",
       "    .dataframe tbody tr th {\n",
       "        vertical-align: top;\n",
       "    }\n",
       "\n",
       "    .dataframe thead th {\n",
       "        text-align: right;\n",
       "    }\n",
       "</style>\n",
       "<table border=\"1\" class=\"dataframe\">\n",
       "  <thead>\n",
       "    <tr style=\"text-align: right;\">\n",
       "      <th></th>\n",
       "      <th>Sr_no</th>\n",
       "      <th>Make</th>\n",
       "      <th>Model</th>\n",
       "      <th>Variant</th>\n",
       "      <th>Ex-Showroom_Price</th>\n",
       "      <th>Displacement</th>\n",
       "      <th>Cylinders</th>\n",
       "      <th>Valves_Per_Cylinder</th>\n",
       "      <th>Drivetrain</th>\n",
       "      <th>Cylinder_Configuration</th>\n",
       "      <th>...</th>\n",
       "      <th>Leather_Wrapped_Steering</th>\n",
       "      <th>Automatic_Headlamps</th>\n",
       "      <th>Engine_Type</th>\n",
       "      <th>ASR_/_Traction_Control</th>\n",
       "      <th>Cruise_Control</th>\n",
       "      <th>USB_Ports</th>\n",
       "      <th>Heads-Up_Display</th>\n",
       "      <th>Welcome_Lights</th>\n",
       "      <th>Battery</th>\n",
       "      <th>Electric_Range</th>\n",
       "    </tr>\n",
       "  </thead>\n",
       "  <tbody>\n",
       "    <tr>\n",
       "      <th>0</th>\n",
       "      <td>0</td>\n",
       "      <td>Tata</td>\n",
       "      <td>Nano Genx</td>\n",
       "      <td>Xt</td>\n",
       "      <td>292667</td>\n",
       "      <td>624</td>\n",
       "      <td>2.0</td>\n",
       "      <td>2.0</td>\n",
       "      <td>RWD (Rear Wheel Drive)</td>\n",
       "      <td>In-line</td>\n",
       "      <td>...</td>\n",
       "      <td>NaN</td>\n",
       "      <td>NaN</td>\n",
       "      <td>NaN</td>\n",
       "      <td>NaN</td>\n",
       "      <td>NaN</td>\n",
       "      <td>NaN</td>\n",
       "      <td>NaN</td>\n",
       "      <td>NaN</td>\n",
       "      <td>NaN</td>\n",
       "      <td>NaN</td>\n",
       "    </tr>\n",
       "    <tr>\n",
       "      <th>1</th>\n",
       "      <td>1</td>\n",
       "      <td>Tata</td>\n",
       "      <td>Nano Genx</td>\n",
       "      <td>Xe</td>\n",
       "      <td>236447</td>\n",
       "      <td>624</td>\n",
       "      <td>2.0</td>\n",
       "      <td>2.0</td>\n",
       "      <td>RWD (Rear Wheel Drive)</td>\n",
       "      <td>In-line</td>\n",
       "      <td>...</td>\n",
       "      <td>NaN</td>\n",
       "      <td>NaN</td>\n",
       "      <td>NaN</td>\n",
       "      <td>NaN</td>\n",
       "      <td>NaN</td>\n",
       "      <td>NaN</td>\n",
       "      <td>NaN</td>\n",
       "      <td>NaN</td>\n",
       "      <td>NaN</td>\n",
       "      <td>NaN</td>\n",
       "    </tr>\n",
       "    <tr>\n",
       "      <th>2</th>\n",
       "      <td>2</td>\n",
       "      <td>Tata</td>\n",
       "      <td>Nano Genx</td>\n",
       "      <td>Emax Xm</td>\n",
       "      <td>296661</td>\n",
       "      <td>624</td>\n",
       "      <td>2.0</td>\n",
       "      <td>2.0</td>\n",
       "      <td>RWD (Rear Wheel Drive)</td>\n",
       "      <td>In-line</td>\n",
       "      <td>...</td>\n",
       "      <td>NaN</td>\n",
       "      <td>NaN</td>\n",
       "      <td>NaN</td>\n",
       "      <td>NaN</td>\n",
       "      <td>NaN</td>\n",
       "      <td>NaN</td>\n",
       "      <td>NaN</td>\n",
       "      <td>NaN</td>\n",
       "      <td>NaN</td>\n",
       "      <td>NaN</td>\n",
       "    </tr>\n",
       "    <tr>\n",
       "      <th>3</th>\n",
       "      <td>3</td>\n",
       "      <td>Tata</td>\n",
       "      <td>Nano Genx</td>\n",
       "      <td>Xta</td>\n",
       "      <td>334768</td>\n",
       "      <td>624</td>\n",
       "      <td>2.0</td>\n",
       "      <td>2.0</td>\n",
       "      <td>RWD (Rear Wheel Drive)</td>\n",
       "      <td>In-line</td>\n",
       "      <td>...</td>\n",
       "      <td>NaN</td>\n",
       "      <td>NaN</td>\n",
       "      <td>NaN</td>\n",
       "      <td>NaN</td>\n",
       "      <td>NaN</td>\n",
       "      <td>NaN</td>\n",
       "      <td>NaN</td>\n",
       "      <td>NaN</td>\n",
       "      <td>NaN</td>\n",
       "      <td>NaN</td>\n",
       "    </tr>\n",
       "    <tr>\n",
       "      <th>4</th>\n",
       "      <td>4</td>\n",
       "      <td>Tata</td>\n",
       "      <td>Nano Genx</td>\n",
       "      <td>Xm</td>\n",
       "      <td>272223</td>\n",
       "      <td>624</td>\n",
       "      <td>2.0</td>\n",
       "      <td>2.0</td>\n",
       "      <td>RWD (Rear Wheel Drive)</td>\n",
       "      <td>In-line</td>\n",
       "      <td>...</td>\n",
       "      <td>NaN</td>\n",
       "      <td>NaN</td>\n",
       "      <td>NaN</td>\n",
       "      <td>NaN</td>\n",
       "      <td>NaN</td>\n",
       "      <td>NaN</td>\n",
       "      <td>NaN</td>\n",
       "      <td>NaN</td>\n",
       "      <td>NaN</td>\n",
       "      <td>NaN</td>\n",
       "    </tr>\n",
       "    <tr>\n",
       "      <th>5</th>\n",
       "      <td>5</td>\n",
       "      <td>Tata</td>\n",
       "      <td>Nano Genx</td>\n",
       "      <td>Xma</td>\n",
       "      <td>314815</td>\n",
       "      <td>624</td>\n",
       "      <td>2.0</td>\n",
       "      <td>2.0</td>\n",
       "      <td>RWD (Rear Wheel Drive)</td>\n",
       "      <td>In-line</td>\n",
       "      <td>...</td>\n",
       "      <td>NaN</td>\n",
       "      <td>NaN</td>\n",
       "      <td>NaN</td>\n",
       "      <td>NaN</td>\n",
       "      <td>NaN</td>\n",
       "      <td>NaN</td>\n",
       "      <td>NaN</td>\n",
       "      <td>NaN</td>\n",
       "      <td>NaN</td>\n",
       "      <td>NaN</td>\n",
       "    </tr>\n",
       "    <tr>\n",
       "      <th>6</th>\n",
       "      <td>6</td>\n",
       "      <td>Datsun</td>\n",
       "      <td>Redi-Go</td>\n",
       "      <td>D</td>\n",
       "      <td>279650</td>\n",
       "      <td>799</td>\n",
       "      <td>3.0</td>\n",
       "      <td>4.0</td>\n",
       "      <td>FWD (Front Wheel Drive)</td>\n",
       "      <td>In-line</td>\n",
       "      <td>...</td>\n",
       "      <td>NaN</td>\n",
       "      <td>NaN</td>\n",
       "      <td>NaN</td>\n",
       "      <td>NaN</td>\n",
       "      <td>NaN</td>\n",
       "      <td>NaN</td>\n",
       "      <td>NaN</td>\n",
       "      <td>NaN</td>\n",
       "      <td>NaN</td>\n",
       "      <td>NaN</td>\n",
       "    </tr>\n",
       "    <tr>\n",
       "      <th>7</th>\n",
       "      <td>7</td>\n",
       "      <td>Datsun</td>\n",
       "      <td>Redi-Go</td>\n",
       "      <td>T</td>\n",
       "      <td>351832</td>\n",
       "      <td>799</td>\n",
       "      <td>3.0</td>\n",
       "      <td>4.0</td>\n",
       "      <td>FWD (Front Wheel Drive)</td>\n",
       "      <td>In-line</td>\n",
       "      <td>...</td>\n",
       "      <td>NaN</td>\n",
       "      <td>NaN</td>\n",
       "      <td>NaN</td>\n",
       "      <td>NaN</td>\n",
       "      <td>NaN</td>\n",
       "      <td>NaN</td>\n",
       "      <td>NaN</td>\n",
       "      <td>NaN</td>\n",
       "      <td>NaN</td>\n",
       "      <td>NaN</td>\n",
       "    </tr>\n",
       "    <tr>\n",
       "      <th>8</th>\n",
       "      <td>8</td>\n",
       "      <td>Datsun</td>\n",
       "      <td>Redi-Go</td>\n",
       "      <td>A</td>\n",
       "      <td>333419</td>\n",
       "      <td>799</td>\n",
       "      <td>3.0</td>\n",
       "      <td>4.0</td>\n",
       "      <td>FWD (Front Wheel Drive)</td>\n",
       "      <td>In-line</td>\n",
       "      <td>...</td>\n",
       "      <td>NaN</td>\n",
       "      <td>NaN</td>\n",
       "      <td>NaN</td>\n",
       "      <td>NaN</td>\n",
       "      <td>NaN</td>\n",
       "      <td>NaN</td>\n",
       "      <td>NaN</td>\n",
       "      <td>NaN</td>\n",
       "      <td>NaN</td>\n",
       "      <td>NaN</td>\n",
       "    </tr>\n",
       "    <tr>\n",
       "      <th>9</th>\n",
       "      <td>9</td>\n",
       "      <td>Datsun</td>\n",
       "      <td>Redi-Go</td>\n",
       "      <td>S</td>\n",
       "      <td>362000</td>\n",
       "      <td>799</td>\n",
       "      <td>3.0</td>\n",
       "      <td>4.0</td>\n",
       "      <td>FWD (Front Wheel Drive)</td>\n",
       "      <td>In-line</td>\n",
       "      <td>...</td>\n",
       "      <td>NaN</td>\n",
       "      <td>NaN</td>\n",
       "      <td>NaN</td>\n",
       "      <td>NaN</td>\n",
       "      <td>NaN</td>\n",
       "      <td>NaN</td>\n",
       "      <td>NaN</td>\n",
       "      <td>NaN</td>\n",
       "      <td>NaN</td>\n",
       "      <td>NaN</td>\n",
       "    </tr>\n",
       "    <tr>\n",
       "      <th>10</th>\n",
       "      <td>10</td>\n",
       "      <td>Datsun</td>\n",
       "      <td>Redi-Go</td>\n",
       "      <td>1.0 S</td>\n",
       "      <td>390000</td>\n",
       "      <td>999</td>\n",
       "      <td>3.0</td>\n",
       "      <td>4.0</td>\n",
       "      <td>FWD (Front Wheel Drive)</td>\n",
       "      <td>In-line</td>\n",
       "      <td>...</td>\n",
       "      <td>NaN</td>\n",
       "      <td>NaN</td>\n",
       "      <td>NaN</td>\n",
       "      <td>NaN</td>\n",
       "      <td>NaN</td>\n",
       "      <td>NaN</td>\n",
       "      <td>NaN</td>\n",
       "      <td>NaN</td>\n",
       "      <td>NaN</td>\n",
       "      <td>NaN</td>\n",
       "    </tr>\n",
       "    <tr>\n",
       "      <th>11</th>\n",
       "      <td>11</td>\n",
       "      <td>Datsun</td>\n",
       "      <td>Redi-Go</td>\n",
       "      <td>1.0 S Amt</td>\n",
       "      <td>437065</td>\n",
       "      <td>999</td>\n",
       "      <td>3.0</td>\n",
       "      <td>4.0</td>\n",
       "      <td>FWD (Front Wheel Drive)</td>\n",
       "      <td>In-line</td>\n",
       "      <td>...</td>\n",
       "      <td>NaN</td>\n",
       "      <td>NaN</td>\n",
       "      <td>NaN</td>\n",
       "      <td>NaN</td>\n",
       "      <td>NaN</td>\n",
       "      <td>NaN</td>\n",
       "      <td>NaN</td>\n",
       "      <td>NaN</td>\n",
       "      <td>NaN</td>\n",
       "      <td>NaN</td>\n",
       "    </tr>\n",
       "    <tr>\n",
       "      <th>12</th>\n",
       "      <td>12</td>\n",
       "      <td>Renault</td>\n",
       "      <td>Kwid</td>\n",
       "      <td>Rxe 0.8</td>\n",
       "      <td>353290</td>\n",
       "      <td>799</td>\n",
       "      <td>3.0</td>\n",
       "      <td>4.0</td>\n",
       "      <td>FWD (Front Wheel Drive)</td>\n",
       "      <td>In-line</td>\n",
       "      <td>...</td>\n",
       "      <td>NaN</td>\n",
       "      <td>NaN</td>\n",
       "      <td>NaN</td>\n",
       "      <td>NaN</td>\n",
       "      <td>NaN</td>\n",
       "      <td>NaN</td>\n",
       "      <td>NaN</td>\n",
       "      <td>NaN</td>\n",
       "      <td>NaN</td>\n",
       "      <td>NaN</td>\n",
       "    </tr>\n",
       "    <tr>\n",
       "      <th>13</th>\n",
       "      <td>13</td>\n",
       "      <td>Renault</td>\n",
       "      <td>Kwid</td>\n",
       "      <td>Std 0.8</td>\n",
       "      <td>283290</td>\n",
       "      <td>799</td>\n",
       "      <td>3.0</td>\n",
       "      <td>4.0</td>\n",
       "      <td>FWD (Front Wheel Drive)</td>\n",
       "      <td>In-line</td>\n",
       "      <td>...</td>\n",
       "      <td>NaN</td>\n",
       "      <td>NaN</td>\n",
       "      <td>NaN</td>\n",
       "      <td>NaN</td>\n",
       "      <td>NaN</td>\n",
       "      <td>NaN</td>\n",
       "      <td>NaN</td>\n",
       "      <td>NaN</td>\n",
       "      <td>NaN</td>\n",
       "      <td>NaN</td>\n",
       "    </tr>\n",
       "    <tr>\n",
       "      <th>14</th>\n",
       "      <td>14</td>\n",
       "      <td>Renault</td>\n",
       "      <td>Kwid</td>\n",
       "      <td>Rxl 0.8</td>\n",
       "      <td>383290</td>\n",
       "      <td>799</td>\n",
       "      <td>3.0</td>\n",
       "      <td>4.0</td>\n",
       "      <td>FWD (Front Wheel Drive)</td>\n",
       "      <td>In-line</td>\n",
       "      <td>...</td>\n",
       "      <td>NaN</td>\n",
       "      <td>NaN</td>\n",
       "      <td>NaN</td>\n",
       "      <td>NaN</td>\n",
       "      <td>NaN</td>\n",
       "      <td>NaN</td>\n",
       "      <td>NaN</td>\n",
       "      <td>NaN</td>\n",
       "      <td>NaN</td>\n",
       "      <td>NaN</td>\n",
       "    </tr>\n",
       "    <tr>\n",
       "      <th>15</th>\n",
       "      <td>15</td>\n",
       "      <td>Renault</td>\n",
       "      <td>Kwid</td>\n",
       "      <td>Rxt 0.8</td>\n",
       "      <td>413290</td>\n",
       "      <td>799</td>\n",
       "      <td>3.0</td>\n",
       "      <td>4.0</td>\n",
       "      <td>FWD (Front Wheel Drive)</td>\n",
       "      <td>In-line</td>\n",
       "      <td>...</td>\n",
       "      <td>NaN</td>\n",
       "      <td>NaN</td>\n",
       "      <td>NaN</td>\n",
       "      <td>NaN</td>\n",
       "      <td>NaN</td>\n",
       "      <td>NaN</td>\n",
       "      <td>NaN</td>\n",
       "      <td>NaN</td>\n",
       "      <td>NaN</td>\n",
       "      <td>NaN</td>\n",
       "    </tr>\n",
       "    <tr>\n",
       "      <th>16</th>\n",
       "      <td>16</td>\n",
       "      <td>Renault</td>\n",
       "      <td>Kwid</td>\n",
       "      <td>Rxt 1.0</td>\n",
       "      <td>433290</td>\n",
       "      <td>999</td>\n",
       "      <td>3.0</td>\n",
       "      <td>4.0</td>\n",
       "      <td>FWD (Front Wheel Drive)</td>\n",
       "      <td>In-line</td>\n",
       "      <td>...</td>\n",
       "      <td>Yes</td>\n",
       "      <td>NaN</td>\n",
       "      <td>NaN</td>\n",
       "      <td>NaN</td>\n",
       "      <td>NaN</td>\n",
       "      <td>NaN</td>\n",
       "      <td>NaN</td>\n",
       "      <td>NaN</td>\n",
       "      <td>NaN</td>\n",
       "      <td>NaN</td>\n",
       "    </tr>\n",
       "    <tr>\n",
       "      <th>17</th>\n",
       "      <td>17</td>\n",
       "      <td>Renault</td>\n",
       "      <td>Kwid</td>\n",
       "      <td>Climber 1.0 Mt</td>\n",
       "      <td>454490</td>\n",
       "      <td>999</td>\n",
       "      <td>3.0</td>\n",
       "      <td>4.0</td>\n",
       "      <td>FWD (Front Wheel Drive)</td>\n",
       "      <td>In-line</td>\n",
       "      <td>...</td>\n",
       "      <td>Yes</td>\n",
       "      <td>NaN</td>\n",
       "      <td>NaN</td>\n",
       "      <td>NaN</td>\n",
       "      <td>NaN</td>\n",
       "      <td>NaN</td>\n",
       "      <td>NaN</td>\n",
       "      <td>NaN</td>\n",
       "      <td>NaN</td>\n",
       "      <td>NaN</td>\n",
       "    </tr>\n",
       "    <tr>\n",
       "      <th>18</th>\n",
       "      <td>18</td>\n",
       "      <td>Renault</td>\n",
       "      <td>Kwid</td>\n",
       "      <td>Rxt Amt 1.0</td>\n",
       "      <td>463290</td>\n",
       "      <td>999</td>\n",
       "      <td>3.0</td>\n",
       "      <td>4.0</td>\n",
       "      <td>FWD (Front Wheel Drive)</td>\n",
       "      <td>In-line</td>\n",
       "      <td>...</td>\n",
       "      <td>Yes</td>\n",
       "      <td>NaN</td>\n",
       "      <td>NaN</td>\n",
       "      <td>NaN</td>\n",
       "      <td>NaN</td>\n",
       "      <td>NaN</td>\n",
       "      <td>NaN</td>\n",
       "      <td>NaN</td>\n",
       "      <td>NaN</td>\n",
       "      <td>NaN</td>\n",
       "    </tr>\n",
       "    <tr>\n",
       "      <th>19</th>\n",
       "      <td>19</td>\n",
       "      <td>Renault</td>\n",
       "      <td>Kwid</td>\n",
       "      <td>Climber Amt 1.0</td>\n",
       "      <td>484490</td>\n",
       "      <td>999</td>\n",
       "      <td>3.0</td>\n",
       "      <td>4.0</td>\n",
       "      <td>FWD (Front Wheel Drive)</td>\n",
       "      <td>In-line</td>\n",
       "      <td>...</td>\n",
       "      <td>NaN</td>\n",
       "      <td>NaN</td>\n",
       "      <td>NaN</td>\n",
       "      <td>NaN</td>\n",
       "      <td>NaN</td>\n",
       "      <td>NaN</td>\n",
       "      <td>NaN</td>\n",
       "      <td>NaN</td>\n",
       "      <td>NaN</td>\n",
       "      <td>NaN</td>\n",
       "    </tr>\n",
       "    <tr>\n",
       "      <th>20</th>\n",
       "      <td>20</td>\n",
       "      <td>Renault</td>\n",
       "      <td>Kwid</td>\n",
       "      <td>Rxt (O) 1.0</td>\n",
       "      <td>440990</td>\n",
       "      <td>999</td>\n",
       "      <td>3.0</td>\n",
       "      <td>4.0</td>\n",
       "      <td>FWD (Front Wheel Drive)</td>\n",
       "      <td>In-line</td>\n",
       "      <td>...</td>\n",
       "      <td>Yes</td>\n",
       "      <td>NaN</td>\n",
       "      <td>NaN</td>\n",
       "      <td>NaN</td>\n",
       "      <td>NaN</td>\n",
       "      <td>NaN</td>\n",
       "      <td>NaN</td>\n",
       "      <td>NaN</td>\n",
       "      <td>NaN</td>\n",
       "      <td>NaN</td>\n",
       "    </tr>\n",
       "    <tr>\n",
       "      <th>21</th>\n",
       "      <td>21</td>\n",
       "      <td>Renault</td>\n",
       "      <td>Kwid</td>\n",
       "      <td>Rxt (O) Amt 1.0</td>\n",
       "      <td>470990</td>\n",
       "      <td>999</td>\n",
       "      <td>3.0</td>\n",
       "      <td>4.0</td>\n",
       "      <td>FWD (Front Wheel Drive)</td>\n",
       "      <td>In-line</td>\n",
       "      <td>...</td>\n",
       "      <td>Yes</td>\n",
       "      <td>NaN</td>\n",
       "      <td>NaN</td>\n",
       "      <td>NaN</td>\n",
       "      <td>NaN</td>\n",
       "      <td>NaN</td>\n",
       "      <td>NaN</td>\n",
       "      <td>NaN</td>\n",
       "      <td>NaN</td>\n",
       "      <td>NaN</td>\n",
       "    </tr>\n",
       "    <tr>\n",
       "      <th>22</th>\n",
       "      <td>22</td>\n",
       "      <td>Renault</td>\n",
       "      <td>Kwid</td>\n",
       "      <td>Climber (O) Mt 1.0</td>\n",
       "      <td>462190</td>\n",
       "      <td>999</td>\n",
       "      <td>3.0</td>\n",
       "      <td>4.0</td>\n",
       "      <td>FWD (Front Wheel Drive)</td>\n",
       "      <td>In-line</td>\n",
       "      <td>...</td>\n",
       "      <td>Yes</td>\n",
       "      <td>NaN</td>\n",
       "      <td>NaN</td>\n",
       "      <td>NaN</td>\n",
       "      <td>NaN</td>\n",
       "      <td>NaN</td>\n",
       "      <td>NaN</td>\n",
       "      <td>NaN</td>\n",
       "      <td>NaN</td>\n",
       "      <td>NaN</td>\n",
       "    </tr>\n",
       "    <tr>\n",
       "      <th>23</th>\n",
       "      <td>23</td>\n",
       "      <td>Renault</td>\n",
       "      <td>Kwid</td>\n",
       "      <td>Climber (O) Amt 1.0</td>\n",
       "      <td>492190</td>\n",
       "      <td>999</td>\n",
       "      <td>3.0</td>\n",
       "      <td>4.0</td>\n",
       "      <td>FWD (Front Wheel Drive)</td>\n",
       "      <td>In-line</td>\n",
       "      <td>...</td>\n",
       "      <td>NaN</td>\n",
       "      <td>NaN</td>\n",
       "      <td>NaN</td>\n",
       "      <td>NaN</td>\n",
       "      <td>NaN</td>\n",
       "      <td>NaN</td>\n",
       "      <td>NaN</td>\n",
       "      <td>NaN</td>\n",
       "      <td>NaN</td>\n",
       "      <td>NaN</td>\n",
       "    </tr>\n",
       "    <tr>\n",
       "      <th>24</th>\n",
       "      <td>24</td>\n",
       "      <td>Maruti Suzuki</td>\n",
       "      <td>Eeco</td>\n",
       "      <td>5 Str</td>\n",
       "      <td>352136</td>\n",
       "      <td>1196</td>\n",
       "      <td>4.0</td>\n",
       "      <td>4.0</td>\n",
       "      <td>RWD (Rear Wheel Drive)</td>\n",
       "      <td>In-line</td>\n",
       "      <td>...</td>\n",
       "      <td>NaN</td>\n",
       "      <td>NaN</td>\n",
       "      <td>NaN</td>\n",
       "      <td>NaN</td>\n",
       "      <td>NaN</td>\n",
       "      <td>NaN</td>\n",
       "      <td>NaN</td>\n",
       "      <td>NaN</td>\n",
       "      <td>NaN</td>\n",
       "      <td>NaN</td>\n",
       "    </tr>\n",
       "    <tr>\n",
       "      <th>25</th>\n",
       "      <td>25</td>\n",
       "      <td>Maruti Suzuki</td>\n",
       "      <td>Eeco</td>\n",
       "      <td>7 Str</td>\n",
       "      <td>380573</td>\n",
       "      <td>1196</td>\n",
       "      <td>4.0</td>\n",
       "      <td>4.0</td>\n",
       "      <td>FWD (Front Wheel Drive)</td>\n",
       "      <td>In-line</td>\n",
       "      <td>...</td>\n",
       "      <td>NaN</td>\n",
       "      <td>NaN</td>\n",
       "      <td>NaN</td>\n",
       "      <td>NaN</td>\n",
       "      <td>NaN</td>\n",
       "      <td>NaN</td>\n",
       "      <td>NaN</td>\n",
       "      <td>NaN</td>\n",
       "      <td>NaN</td>\n",
       "      <td>NaN</td>\n",
       "    </tr>\n",
       "    <tr>\n",
       "      <th>26</th>\n",
       "      <td>26</td>\n",
       "      <td>Maruti Suzuki</td>\n",
       "      <td>Eeco</td>\n",
       "      <td>5 Str With Ac+Htr</td>\n",
       "      <td>392967</td>\n",
       "      <td>1196</td>\n",
       "      <td>4.0</td>\n",
       "      <td>4.0</td>\n",
       "      <td>RWD (Rear Wheel Drive)</td>\n",
       "      <td>In-line</td>\n",
       "      <td>...</td>\n",
       "      <td>NaN</td>\n",
       "      <td>NaN</td>\n",
       "      <td>NaN</td>\n",
       "      <td>NaN</td>\n",
       "      <td>NaN</td>\n",
       "      <td>NaN</td>\n",
       "      <td>NaN</td>\n",
       "      <td>NaN</td>\n",
       "      <td>NaN</td>\n",
       "      <td>NaN</td>\n",
       "    </tr>\n",
       "    <tr>\n",
       "      <th>27</th>\n",
       "      <td>27</td>\n",
       "      <td>Maruti Suzuki</td>\n",
       "      <td>Eeco</td>\n",
       "      <td>5 Str With Ac+Htr Cng</td>\n",
       "      <td>466057</td>\n",
       "      <td>1196</td>\n",
       "      <td>4.0</td>\n",
       "      <td>4.0</td>\n",
       "      <td>RWD (Rear Wheel Drive)</td>\n",
       "      <td>In-line</td>\n",
       "      <td>...</td>\n",
       "      <td>NaN</td>\n",
       "      <td>NaN</td>\n",
       "      <td>NaN</td>\n",
       "      <td>NaN</td>\n",
       "      <td>NaN</td>\n",
       "      <td>NaN</td>\n",
       "      <td>NaN</td>\n",
       "      <td>NaN</td>\n",
       "      <td>NaN</td>\n",
       "      <td>NaN</td>\n",
       "    </tr>\n",
       "    <tr>\n",
       "      <th>28</th>\n",
       "      <td>28</td>\n",
       "      <td>Maruti Suzuki</td>\n",
       "      <td>Eeco</td>\n",
       "      <td>5 Str With Htr Cng</td>\n",
       "      <td>425255</td>\n",
       "      <td>1196</td>\n",
       "      <td>4.0</td>\n",
       "      <td>4.0</td>\n",
       "      <td>RWD (Rear Wheel Drive)</td>\n",
       "      <td>In-line</td>\n",
       "      <td>...</td>\n",
       "      <td>NaN</td>\n",
       "      <td>NaN</td>\n",
       "      <td>NaN</td>\n",
       "      <td>NaN</td>\n",
       "      <td>NaN</td>\n",
       "      <td>NaN</td>\n",
       "      <td>NaN</td>\n",
       "      <td>NaN</td>\n",
       "      <td>NaN</td>\n",
       "      <td>NaN</td>\n",
       "    </tr>\n",
       "    <tr>\n",
       "      <th>29</th>\n",
       "      <td>29</td>\n",
       "      <td>Maruti Suzuki</td>\n",
       "      <td>Alto K10</td>\n",
       "      <td>Lxi</td>\n",
       "      <td>377588</td>\n",
       "      <td>998</td>\n",
       "      <td>3.0</td>\n",
       "      <td>4.0</td>\n",
       "      <td>FWD (Front Wheel Drive)</td>\n",
       "      <td>In-line</td>\n",
       "      <td>...</td>\n",
       "      <td>NaN</td>\n",
       "      <td>NaN</td>\n",
       "      <td>NaN</td>\n",
       "      <td>NaN</td>\n",
       "      <td>NaN</td>\n",
       "      <td>NaN</td>\n",
       "      <td>NaN</td>\n",
       "      <td>NaN</td>\n",
       "      <td>NaN</td>\n",
       "      <td>NaN</td>\n",
       "    </tr>\n",
       "  </tbody>\n",
       "</table>\n",
       "<p>30 rows × 141 columns</p>\n",
       "</div>"
      ],
      "text/plain": [
       "    Sr_no           Make      Model                Variant  Ex-Showroom_Price  \\\n",
       "0       0           Tata  Nano Genx                     Xt             292667   \n",
       "1       1           Tata  Nano Genx                     Xe             236447   \n",
       "2       2           Tata  Nano Genx                Emax Xm             296661   \n",
       "3       3           Tata  Nano Genx                    Xta             334768   \n",
       "4       4           Tata  Nano Genx                     Xm             272223   \n",
       "5       5           Tata  Nano Genx                    Xma             314815   \n",
       "6       6         Datsun    Redi-Go                      D             279650   \n",
       "7       7         Datsun    Redi-Go                      T             351832   \n",
       "8       8         Datsun    Redi-Go                      A             333419   \n",
       "9       9         Datsun    Redi-Go                      S             362000   \n",
       "10     10         Datsun    Redi-Go                  1.0 S             390000   \n",
       "11     11         Datsun    Redi-Go              1.0 S Amt             437065   \n",
       "12     12        Renault       Kwid                Rxe 0.8             353290   \n",
       "13     13        Renault       Kwid                Std 0.8             283290   \n",
       "14     14        Renault       Kwid                Rxl 0.8             383290   \n",
       "15     15        Renault       Kwid                Rxt 0.8             413290   \n",
       "16     16        Renault       Kwid                Rxt 1.0             433290   \n",
       "17     17        Renault       Kwid         Climber 1.0 Mt             454490   \n",
       "18     18        Renault       Kwid            Rxt Amt 1.0             463290   \n",
       "19     19        Renault       Kwid        Climber Amt 1.0             484490   \n",
       "20     20        Renault       Kwid            Rxt (O) 1.0             440990   \n",
       "21     21        Renault       Kwid        Rxt (O) Amt 1.0             470990   \n",
       "22     22        Renault       Kwid     Climber (O) Mt 1.0             462190   \n",
       "23     23        Renault       Kwid    Climber (O) Amt 1.0             492190   \n",
       "24     24  Maruti Suzuki       Eeco                  5 Str             352136   \n",
       "25     25  Maruti Suzuki       Eeco                  7 Str             380573   \n",
       "26     26  Maruti Suzuki       Eeco      5 Str With Ac+Htr             392967   \n",
       "27     27  Maruti Suzuki       Eeco  5 Str With Ac+Htr Cng             466057   \n",
       "28     28  Maruti Suzuki       Eeco     5 Str With Htr Cng             425255   \n",
       "29     29  Maruti Suzuki   Alto K10                    Lxi             377588   \n",
       "\n",
       "   Displacement  Cylinders  Valves_Per_Cylinder               Drivetrain  \\\n",
       "0           624        2.0                  2.0   RWD (Rear Wheel Drive)   \n",
       "1           624        2.0                  2.0   RWD (Rear Wheel Drive)   \n",
       "2           624        2.0                  2.0   RWD (Rear Wheel Drive)   \n",
       "3           624        2.0                  2.0   RWD (Rear Wheel Drive)   \n",
       "4           624        2.0                  2.0   RWD (Rear Wheel Drive)   \n",
       "5           624        2.0                  2.0   RWD (Rear Wheel Drive)   \n",
       "6           799        3.0                  4.0  FWD (Front Wheel Drive)   \n",
       "7           799        3.0                  4.0  FWD (Front Wheel Drive)   \n",
       "8           799        3.0                  4.0  FWD (Front Wheel Drive)   \n",
       "9           799        3.0                  4.0  FWD (Front Wheel Drive)   \n",
       "10          999        3.0                  4.0  FWD (Front Wheel Drive)   \n",
       "11          999        3.0                  4.0  FWD (Front Wheel Drive)   \n",
       "12          799        3.0                  4.0  FWD (Front Wheel Drive)   \n",
       "13          799        3.0                  4.0  FWD (Front Wheel Drive)   \n",
       "14          799        3.0                  4.0  FWD (Front Wheel Drive)   \n",
       "15          799        3.0                  4.0  FWD (Front Wheel Drive)   \n",
       "16          999        3.0                  4.0  FWD (Front Wheel Drive)   \n",
       "17          999        3.0                  4.0  FWD (Front Wheel Drive)   \n",
       "18          999        3.0                  4.0  FWD (Front Wheel Drive)   \n",
       "19          999        3.0                  4.0  FWD (Front Wheel Drive)   \n",
       "20          999        3.0                  4.0  FWD (Front Wheel Drive)   \n",
       "21          999        3.0                  4.0  FWD (Front Wheel Drive)   \n",
       "22          999        3.0                  4.0  FWD (Front Wheel Drive)   \n",
       "23          999        3.0                  4.0  FWD (Front Wheel Drive)   \n",
       "24         1196        4.0                  4.0   RWD (Rear Wheel Drive)   \n",
       "25         1196        4.0                  4.0  FWD (Front Wheel Drive)   \n",
       "26         1196        4.0                  4.0   RWD (Rear Wheel Drive)   \n",
       "27         1196        4.0                  4.0   RWD (Rear Wheel Drive)   \n",
       "28         1196        4.0                  4.0   RWD (Rear Wheel Drive)   \n",
       "29          998        3.0                  4.0  FWD (Front Wheel Drive)   \n",
       "\n",
       "   Cylinder_Configuration  ... Leather_Wrapped_Steering Automatic_Headlamps  \\\n",
       "0                 In-line  ...                      NaN                 NaN   \n",
       "1                 In-line  ...                      NaN                 NaN   \n",
       "2                 In-line  ...                      NaN                 NaN   \n",
       "3                 In-line  ...                      NaN                 NaN   \n",
       "4                 In-line  ...                      NaN                 NaN   \n",
       "5                 In-line  ...                      NaN                 NaN   \n",
       "6                 In-line  ...                      NaN                 NaN   \n",
       "7                 In-line  ...                      NaN                 NaN   \n",
       "8                 In-line  ...                      NaN                 NaN   \n",
       "9                 In-line  ...                      NaN                 NaN   \n",
       "10                In-line  ...                      NaN                 NaN   \n",
       "11                In-line  ...                      NaN                 NaN   \n",
       "12                In-line  ...                      NaN                 NaN   \n",
       "13                In-line  ...                      NaN                 NaN   \n",
       "14                In-line  ...                      NaN                 NaN   \n",
       "15                In-line  ...                      NaN                 NaN   \n",
       "16                In-line  ...                      Yes                 NaN   \n",
       "17                In-line  ...                      Yes                 NaN   \n",
       "18                In-line  ...                      Yes                 NaN   \n",
       "19                In-line  ...                      NaN                 NaN   \n",
       "20                In-line  ...                      Yes                 NaN   \n",
       "21                In-line  ...                      Yes                 NaN   \n",
       "22                In-line  ...                      Yes                 NaN   \n",
       "23                In-line  ...                      NaN                 NaN   \n",
       "24                In-line  ...                      NaN                 NaN   \n",
       "25                In-line  ...                      NaN                 NaN   \n",
       "26                In-line  ...                      NaN                 NaN   \n",
       "27                In-line  ...                      NaN                 NaN   \n",
       "28                In-line  ...                      NaN                 NaN   \n",
       "29                In-line  ...                      NaN                 NaN   \n",
       "\n",
       "   Engine_Type ASR_/_Traction_Control Cruise_Control USB_Ports  \\\n",
       "0          NaN                    NaN            NaN       NaN   \n",
       "1          NaN                    NaN            NaN       NaN   \n",
       "2          NaN                    NaN            NaN       NaN   \n",
       "3          NaN                    NaN            NaN       NaN   \n",
       "4          NaN                    NaN            NaN       NaN   \n",
       "5          NaN                    NaN            NaN       NaN   \n",
       "6          NaN                    NaN            NaN       NaN   \n",
       "7          NaN                    NaN            NaN       NaN   \n",
       "8          NaN                    NaN            NaN       NaN   \n",
       "9          NaN                    NaN            NaN       NaN   \n",
       "10         NaN                    NaN            NaN       NaN   \n",
       "11         NaN                    NaN            NaN       NaN   \n",
       "12         NaN                    NaN            NaN       NaN   \n",
       "13         NaN                    NaN            NaN       NaN   \n",
       "14         NaN                    NaN            NaN       NaN   \n",
       "15         NaN                    NaN            NaN       NaN   \n",
       "16         NaN                    NaN            NaN       NaN   \n",
       "17         NaN                    NaN            NaN       NaN   \n",
       "18         NaN                    NaN            NaN       NaN   \n",
       "19         NaN                    NaN            NaN       NaN   \n",
       "20         NaN                    NaN            NaN       NaN   \n",
       "21         NaN                    NaN            NaN       NaN   \n",
       "22         NaN                    NaN            NaN       NaN   \n",
       "23         NaN                    NaN            NaN       NaN   \n",
       "24         NaN                    NaN            NaN       NaN   \n",
       "25         NaN                    NaN            NaN       NaN   \n",
       "26         NaN                    NaN            NaN       NaN   \n",
       "27         NaN                    NaN            NaN       NaN   \n",
       "28         NaN                    NaN            NaN       NaN   \n",
       "29         NaN                    NaN            NaN       NaN   \n",
       "\n",
       "    Heads-Up_Display Welcome_Lights Battery  Electric_Range  \n",
       "0                NaN            NaN     NaN             NaN  \n",
       "1                NaN            NaN     NaN             NaN  \n",
       "2                NaN            NaN     NaN             NaN  \n",
       "3                NaN            NaN     NaN             NaN  \n",
       "4                NaN            NaN     NaN             NaN  \n",
       "5                NaN            NaN     NaN             NaN  \n",
       "6                NaN            NaN     NaN             NaN  \n",
       "7                NaN            NaN     NaN             NaN  \n",
       "8                NaN            NaN     NaN             NaN  \n",
       "9                NaN            NaN     NaN             NaN  \n",
       "10               NaN            NaN     NaN             NaN  \n",
       "11               NaN            NaN     NaN             NaN  \n",
       "12               NaN            NaN     NaN             NaN  \n",
       "13               NaN            NaN     NaN             NaN  \n",
       "14               NaN            NaN     NaN             NaN  \n",
       "15               NaN            NaN     NaN             NaN  \n",
       "16               NaN            NaN     NaN             NaN  \n",
       "17               NaN            NaN     NaN             NaN  \n",
       "18               NaN            NaN     NaN             NaN  \n",
       "19               NaN            NaN     NaN             NaN  \n",
       "20               NaN            NaN     NaN             NaN  \n",
       "21               NaN            NaN     NaN             NaN  \n",
       "22               NaN            NaN     NaN             NaN  \n",
       "23               NaN            NaN     NaN             NaN  \n",
       "24               NaN            NaN     NaN             NaN  \n",
       "25               NaN            NaN     NaN             NaN  \n",
       "26               NaN            NaN     NaN             NaN  \n",
       "27               NaN            NaN     NaN             NaN  \n",
       "28               NaN            NaN     NaN             NaN  \n",
       "29               NaN            NaN     NaN             NaN  \n",
       "\n",
       "[30 rows x 141 columns]"
      ]
     },
     "execution_count": 4,
     "metadata": {},
     "output_type": "execute_result"
    }
   ],
   "source": [
    "df.head(30)"
   ]
  },
  {
   "cell_type": "markdown",
   "metadata": {},
   "source": [
    "# Evaluating the dataset"
   ]
  },
  {
   "cell_type": "code",
   "execution_count": 5,
   "metadata": {
    "scrolled": true
   },
   "outputs": [],
   "source": [
    "#Droping 'instant' coulmn as it is not going to contribute to the prediction model\n",
    "df.drop(['Sr_no'], axis = 1, inplace = True)"
   ]
  },
  {
   "cell_type": "code",
   "execution_count": 6,
   "metadata": {
    "scrolled": true
   },
   "outputs": [
    {
     "name": "stdout",
     "output_type": "stream",
     "text": [
      "<class 'pandas.core.frame.DataFrame'>\n",
      "RangeIndex: 1276 entries, 0 to 1275\n",
      "Columns: 140 entries, Make to Electric_Range\n",
      "dtypes: float64(12), int64(2), object(126)\n",
      "memory usage: 1.4+ MB\n"
     ]
    }
   ],
   "source": [
    "df.info()"
   ]
  },
  {
   "cell_type": "markdown",
   "metadata": {},
   "source": [
    "### From the above info we can see that there are no null data in the columns\n",
    "### Data types also look good"
   ]
  },
  {
   "cell_type": "code",
   "execution_count": 7,
   "metadata": {},
   "outputs": [],
   "source": [
    "# Dropping variable that are not contribution to the target variablble\n",
    "df.drop(['Valves_Per_Cylinder','Leather_Wrapped_Steering','USB_Ports','Heads-Up_Display','Welcome_Lights','Cruise_Control'], axis = 1, inplace = True)"
   ]
  },
  {
   "cell_type": "code",
   "execution_count": 8,
   "metadata": {
    "scrolled": true
   },
   "outputs": [
    {
     "data": {
      "text/html": [
       "<div>\n",
       "<style scoped>\n",
       "    .dataframe tbody tr th:only-of-type {\n",
       "        vertical-align: middle;\n",
       "    }\n",
       "\n",
       "    .dataframe tbody tr th {\n",
       "        vertical-align: top;\n",
       "    }\n",
       "\n",
       "    .dataframe thead th {\n",
       "        text-align: right;\n",
       "    }\n",
       "</style>\n",
       "<table border=\"1\" class=\"dataframe\">\n",
       "  <thead>\n",
       "    <tr style=\"text-align: right;\">\n",
       "      <th></th>\n",
       "      <th>Make</th>\n",
       "      <th>Model</th>\n",
       "      <th>Variant</th>\n",
       "      <th>Ex-Showroom_Price</th>\n",
       "      <th>Displacement</th>\n",
       "      <th>Cylinders</th>\n",
       "      <th>Drivetrain</th>\n",
       "      <th>Cylinder_Configuration</th>\n",
       "      <th>Emission_Norm</th>\n",
       "      <th>Engine_Location</th>\n",
       "      <th>...</th>\n",
       "      <th>Heated_Seats</th>\n",
       "      <th>Turbocharger</th>\n",
       "      <th>ISOFIX_(Child-Seat_Mount)</th>\n",
       "      <th>Rain_Sensing_Wipers</th>\n",
       "      <th>Paddle_Shifters</th>\n",
       "      <th>Automatic_Headlamps</th>\n",
       "      <th>Engine_Type</th>\n",
       "      <th>ASR_/_Traction_Control</th>\n",
       "      <th>Battery</th>\n",
       "      <th>Electric_Range</th>\n",
       "    </tr>\n",
       "  </thead>\n",
       "  <tbody>\n",
       "    <tr>\n",
       "      <th>0</th>\n",
       "      <td>Tata</td>\n",
       "      <td>Nano Genx</td>\n",
       "      <td>Xt</td>\n",
       "      <td>292667</td>\n",
       "      <td>624</td>\n",
       "      <td>2.0</td>\n",
       "      <td>RWD (Rear Wheel Drive)</td>\n",
       "      <td>In-line</td>\n",
       "      <td>BS IV</td>\n",
       "      <td>Rear, Transverse</td>\n",
       "      <td>...</td>\n",
       "      <td>NaN</td>\n",
       "      <td>NaN</td>\n",
       "      <td>NaN</td>\n",
       "      <td>NaN</td>\n",
       "      <td>NaN</td>\n",
       "      <td>NaN</td>\n",
       "      <td>NaN</td>\n",
       "      <td>NaN</td>\n",
       "      <td>NaN</td>\n",
       "      <td>NaN</td>\n",
       "    </tr>\n",
       "    <tr>\n",
       "      <th>1</th>\n",
       "      <td>Tata</td>\n",
       "      <td>Nano Genx</td>\n",
       "      <td>Xe</td>\n",
       "      <td>236447</td>\n",
       "      <td>624</td>\n",
       "      <td>2.0</td>\n",
       "      <td>RWD (Rear Wheel Drive)</td>\n",
       "      <td>In-line</td>\n",
       "      <td>BS IV</td>\n",
       "      <td>Rear, Transverse</td>\n",
       "      <td>...</td>\n",
       "      <td>NaN</td>\n",
       "      <td>NaN</td>\n",
       "      <td>NaN</td>\n",
       "      <td>NaN</td>\n",
       "      <td>NaN</td>\n",
       "      <td>NaN</td>\n",
       "      <td>NaN</td>\n",
       "      <td>NaN</td>\n",
       "      <td>NaN</td>\n",
       "      <td>NaN</td>\n",
       "    </tr>\n",
       "    <tr>\n",
       "      <th>2</th>\n",
       "      <td>Tata</td>\n",
       "      <td>Nano Genx</td>\n",
       "      <td>Emax Xm</td>\n",
       "      <td>296661</td>\n",
       "      <td>624</td>\n",
       "      <td>2.0</td>\n",
       "      <td>RWD (Rear Wheel Drive)</td>\n",
       "      <td>In-line</td>\n",
       "      <td>BS IV</td>\n",
       "      <td>Rear, Transverse</td>\n",
       "      <td>...</td>\n",
       "      <td>NaN</td>\n",
       "      <td>NaN</td>\n",
       "      <td>NaN</td>\n",
       "      <td>NaN</td>\n",
       "      <td>NaN</td>\n",
       "      <td>NaN</td>\n",
       "      <td>NaN</td>\n",
       "      <td>NaN</td>\n",
       "      <td>NaN</td>\n",
       "      <td>NaN</td>\n",
       "    </tr>\n",
       "    <tr>\n",
       "      <th>3</th>\n",
       "      <td>Tata</td>\n",
       "      <td>Nano Genx</td>\n",
       "      <td>Xta</td>\n",
       "      <td>334768</td>\n",
       "      <td>624</td>\n",
       "      <td>2.0</td>\n",
       "      <td>RWD (Rear Wheel Drive)</td>\n",
       "      <td>In-line</td>\n",
       "      <td>BS IV</td>\n",
       "      <td>Rear, Transverse</td>\n",
       "      <td>...</td>\n",
       "      <td>NaN</td>\n",
       "      <td>NaN</td>\n",
       "      <td>NaN</td>\n",
       "      <td>NaN</td>\n",
       "      <td>NaN</td>\n",
       "      <td>NaN</td>\n",
       "      <td>NaN</td>\n",
       "      <td>NaN</td>\n",
       "      <td>NaN</td>\n",
       "      <td>NaN</td>\n",
       "    </tr>\n",
       "    <tr>\n",
       "      <th>4</th>\n",
       "      <td>Tata</td>\n",
       "      <td>Nano Genx</td>\n",
       "      <td>Xm</td>\n",
       "      <td>272223</td>\n",
       "      <td>624</td>\n",
       "      <td>2.0</td>\n",
       "      <td>RWD (Rear Wheel Drive)</td>\n",
       "      <td>In-line</td>\n",
       "      <td>BS IV</td>\n",
       "      <td>Rear, Transverse</td>\n",
       "      <td>...</td>\n",
       "      <td>NaN</td>\n",
       "      <td>NaN</td>\n",
       "      <td>NaN</td>\n",
       "      <td>NaN</td>\n",
       "      <td>NaN</td>\n",
       "      <td>NaN</td>\n",
       "      <td>NaN</td>\n",
       "      <td>NaN</td>\n",
       "      <td>NaN</td>\n",
       "      <td>NaN</td>\n",
       "    </tr>\n",
       "  </tbody>\n",
       "</table>\n",
       "<p>5 rows × 134 columns</p>\n",
       "</div>"
      ],
      "text/plain": [
       "   Make      Model  Variant  Ex-Showroom_Price Displacement  Cylinders  \\\n",
       "0  Tata  Nano Genx       Xt             292667          624        2.0   \n",
       "1  Tata  Nano Genx       Xe             236447          624        2.0   \n",
       "2  Tata  Nano Genx  Emax Xm             296661          624        2.0   \n",
       "3  Tata  Nano Genx      Xta             334768          624        2.0   \n",
       "4  Tata  Nano Genx       Xm             272223          624        2.0   \n",
       "\n",
       "               Drivetrain Cylinder_Configuration Emission_Norm  \\\n",
       "0  RWD (Rear Wheel Drive)                In-line         BS IV   \n",
       "1  RWD (Rear Wheel Drive)                In-line         BS IV   \n",
       "2  RWD (Rear Wheel Drive)                In-line         BS IV   \n",
       "3  RWD (Rear Wheel Drive)                In-line         BS IV   \n",
       "4  RWD (Rear Wheel Drive)                In-line         BS IV   \n",
       "\n",
       "    Engine_Location  ... Heated_Seats Turbocharger ISOFIX_(Child-Seat_Mount)  \\\n",
       "0  Rear, Transverse  ...          NaN          NaN                       NaN   \n",
       "1  Rear, Transverse  ...          NaN          NaN                       NaN   \n",
       "2  Rear, Transverse  ...          NaN          NaN                       NaN   \n",
       "3  Rear, Transverse  ...          NaN          NaN                       NaN   \n",
       "4  Rear, Transverse  ...          NaN          NaN                       NaN   \n",
       "\n",
       "  Rain_Sensing_Wipers  Paddle_Shifters Automatic_Headlamps Engine_Type  \\\n",
       "0                 NaN              NaN                 NaN         NaN   \n",
       "1                 NaN              NaN                 NaN         NaN   \n",
       "2                 NaN              NaN                 NaN         NaN   \n",
       "3                 NaN              NaN                 NaN         NaN   \n",
       "4                 NaN              NaN                 NaN         NaN   \n",
       "\n",
       "   ASR_/_Traction_Control  Battery  Electric_Range  \n",
       "0                     NaN      NaN             NaN  \n",
       "1                     NaN      NaN             NaN  \n",
       "2                     NaN      NaN             NaN  \n",
       "3                     NaN      NaN             NaN  \n",
       "4                     NaN      NaN             NaN  \n",
       "\n",
       "[5 rows x 134 columns]"
      ]
     },
     "execution_count": 8,
     "metadata": {},
     "output_type": "execute_result"
    }
   ],
   "source": [
    "df.head()"
   ]
  },
  {
   "cell_type": "code",
   "execution_count": 9,
   "metadata": {},
   "outputs": [],
   "source": [
    "df.drop(['Recommended_Tyre_Pressure','ISOFIX_(Child-Seat_Mount)'], axis = 1, inplace = True)"
   ]
  },
  {
   "cell_type": "code",
   "execution_count": 10,
   "metadata": {},
   "outputs": [
    {
     "data": {
      "text/html": [
       "<div>\n",
       "<style scoped>\n",
       "    .dataframe tbody tr th:only-of-type {\n",
       "        vertical-align: middle;\n",
       "    }\n",
       "\n",
       "    .dataframe tbody tr th {\n",
       "        vertical-align: top;\n",
       "    }\n",
       "\n",
       "    .dataframe thead th {\n",
       "        text-align: right;\n",
       "    }\n",
       "</style>\n",
       "<table border=\"1\" class=\"dataframe\">\n",
       "  <thead>\n",
       "    <tr style=\"text-align: right;\">\n",
       "      <th></th>\n",
       "      <th>Make</th>\n",
       "      <th>Model</th>\n",
       "      <th>Variant</th>\n",
       "      <th>Ex-Showroom_Price</th>\n",
       "      <th>Displacement</th>\n",
       "      <th>Cylinders</th>\n",
       "      <th>Drivetrain</th>\n",
       "      <th>Cylinder_Configuration</th>\n",
       "      <th>Emission_Norm</th>\n",
       "      <th>Engine_Location</th>\n",
       "      <th>...</th>\n",
       "      <th>Cooled_Glove_Box</th>\n",
       "      <th>Heated_Seats</th>\n",
       "      <th>Turbocharger</th>\n",
       "      <th>Rain_Sensing_Wipers</th>\n",
       "      <th>Paddle_Shifters</th>\n",
       "      <th>Automatic_Headlamps</th>\n",
       "      <th>Engine_Type</th>\n",
       "      <th>ASR_/_Traction_Control</th>\n",
       "      <th>Battery</th>\n",
       "      <th>Electric_Range</th>\n",
       "    </tr>\n",
       "  </thead>\n",
       "  <tbody>\n",
       "    <tr>\n",
       "      <th>0</th>\n",
       "      <td>Tata</td>\n",
       "      <td>Nano Genx</td>\n",
       "      <td>Xt</td>\n",
       "      <td>292667</td>\n",
       "      <td>624</td>\n",
       "      <td>2.0</td>\n",
       "      <td>RWD (Rear Wheel Drive)</td>\n",
       "      <td>In-line</td>\n",
       "      <td>BS IV</td>\n",
       "      <td>Rear, Transverse</td>\n",
       "      <td>...</td>\n",
       "      <td>NaN</td>\n",
       "      <td>NaN</td>\n",
       "      <td>NaN</td>\n",
       "      <td>NaN</td>\n",
       "      <td>NaN</td>\n",
       "      <td>NaN</td>\n",
       "      <td>NaN</td>\n",
       "      <td>NaN</td>\n",
       "      <td>NaN</td>\n",
       "      <td>NaN</td>\n",
       "    </tr>\n",
       "    <tr>\n",
       "      <th>1</th>\n",
       "      <td>Tata</td>\n",
       "      <td>Nano Genx</td>\n",
       "      <td>Xe</td>\n",
       "      <td>236447</td>\n",
       "      <td>624</td>\n",
       "      <td>2.0</td>\n",
       "      <td>RWD (Rear Wheel Drive)</td>\n",
       "      <td>In-line</td>\n",
       "      <td>BS IV</td>\n",
       "      <td>Rear, Transverse</td>\n",
       "      <td>...</td>\n",
       "      <td>NaN</td>\n",
       "      <td>NaN</td>\n",
       "      <td>NaN</td>\n",
       "      <td>NaN</td>\n",
       "      <td>NaN</td>\n",
       "      <td>NaN</td>\n",
       "      <td>NaN</td>\n",
       "      <td>NaN</td>\n",
       "      <td>NaN</td>\n",
       "      <td>NaN</td>\n",
       "    </tr>\n",
       "    <tr>\n",
       "      <th>2</th>\n",
       "      <td>Tata</td>\n",
       "      <td>Nano Genx</td>\n",
       "      <td>Emax Xm</td>\n",
       "      <td>296661</td>\n",
       "      <td>624</td>\n",
       "      <td>2.0</td>\n",
       "      <td>RWD (Rear Wheel Drive)</td>\n",
       "      <td>In-line</td>\n",
       "      <td>BS IV</td>\n",
       "      <td>Rear, Transverse</td>\n",
       "      <td>...</td>\n",
       "      <td>NaN</td>\n",
       "      <td>NaN</td>\n",
       "      <td>NaN</td>\n",
       "      <td>NaN</td>\n",
       "      <td>NaN</td>\n",
       "      <td>NaN</td>\n",
       "      <td>NaN</td>\n",
       "      <td>NaN</td>\n",
       "      <td>NaN</td>\n",
       "      <td>NaN</td>\n",
       "    </tr>\n",
       "    <tr>\n",
       "      <th>3</th>\n",
       "      <td>Tata</td>\n",
       "      <td>Nano Genx</td>\n",
       "      <td>Xta</td>\n",
       "      <td>334768</td>\n",
       "      <td>624</td>\n",
       "      <td>2.0</td>\n",
       "      <td>RWD (Rear Wheel Drive)</td>\n",
       "      <td>In-line</td>\n",
       "      <td>BS IV</td>\n",
       "      <td>Rear, Transverse</td>\n",
       "      <td>...</td>\n",
       "      <td>NaN</td>\n",
       "      <td>NaN</td>\n",
       "      <td>NaN</td>\n",
       "      <td>NaN</td>\n",
       "      <td>NaN</td>\n",
       "      <td>NaN</td>\n",
       "      <td>NaN</td>\n",
       "      <td>NaN</td>\n",
       "      <td>NaN</td>\n",
       "      <td>NaN</td>\n",
       "    </tr>\n",
       "    <tr>\n",
       "      <th>4</th>\n",
       "      <td>Tata</td>\n",
       "      <td>Nano Genx</td>\n",
       "      <td>Xm</td>\n",
       "      <td>272223</td>\n",
       "      <td>624</td>\n",
       "      <td>2.0</td>\n",
       "      <td>RWD (Rear Wheel Drive)</td>\n",
       "      <td>In-line</td>\n",
       "      <td>BS IV</td>\n",
       "      <td>Rear, Transverse</td>\n",
       "      <td>...</td>\n",
       "      <td>NaN</td>\n",
       "      <td>NaN</td>\n",
       "      <td>NaN</td>\n",
       "      <td>NaN</td>\n",
       "      <td>NaN</td>\n",
       "      <td>NaN</td>\n",
       "      <td>NaN</td>\n",
       "      <td>NaN</td>\n",
       "      <td>NaN</td>\n",
       "      <td>NaN</td>\n",
       "    </tr>\n",
       "  </tbody>\n",
       "</table>\n",
       "<p>5 rows × 132 columns</p>\n",
       "</div>"
      ],
      "text/plain": [
       "   Make      Model  Variant  Ex-Showroom_Price Displacement  Cylinders  \\\n",
       "0  Tata  Nano Genx       Xt             292667          624        2.0   \n",
       "1  Tata  Nano Genx       Xe             236447          624        2.0   \n",
       "2  Tata  Nano Genx  Emax Xm             296661          624        2.0   \n",
       "3  Tata  Nano Genx      Xta             334768          624        2.0   \n",
       "4  Tata  Nano Genx       Xm             272223          624        2.0   \n",
       "\n",
       "               Drivetrain Cylinder_Configuration Emission_Norm  \\\n",
       "0  RWD (Rear Wheel Drive)                In-line         BS IV   \n",
       "1  RWD (Rear Wheel Drive)                In-line         BS IV   \n",
       "2  RWD (Rear Wheel Drive)                In-line         BS IV   \n",
       "3  RWD (Rear Wheel Drive)                In-line         BS IV   \n",
       "4  RWD (Rear Wheel Drive)                In-line         BS IV   \n",
       "\n",
       "    Engine_Location  ... Cooled_Glove_Box Heated_Seats Turbocharger  \\\n",
       "0  Rear, Transverse  ...              NaN          NaN          NaN   \n",
       "1  Rear, Transverse  ...              NaN          NaN          NaN   \n",
       "2  Rear, Transverse  ...              NaN          NaN          NaN   \n",
       "3  Rear, Transverse  ...              NaN          NaN          NaN   \n",
       "4  Rear, Transverse  ...              NaN          NaN          NaN   \n",
       "\n",
       "  Rain_Sensing_Wipers  Paddle_Shifters Automatic_Headlamps Engine_Type  \\\n",
       "0                 NaN              NaN                 NaN         NaN   \n",
       "1                 NaN              NaN                 NaN         NaN   \n",
       "2                 NaN              NaN                 NaN         NaN   \n",
       "3                 NaN              NaN                 NaN         NaN   \n",
       "4                 NaN              NaN                 NaN         NaN   \n",
       "\n",
       "   ASR_/_Traction_Control  Battery  Electric_Range  \n",
       "0                     NaN      NaN             NaN  \n",
       "1                     NaN      NaN             NaN  \n",
       "2                     NaN      NaN             NaN  \n",
       "3                     NaN      NaN             NaN  \n",
       "4                     NaN      NaN             NaN  \n",
       "\n",
       "[5 rows x 132 columns]"
      ]
     },
     "execution_count": 10,
     "metadata": {},
     "output_type": "execute_result"
    }
   ],
   "source": [
    "df.head()"
   ]
  },
  {
   "cell_type": "code",
   "execution_count": 14,
   "metadata": {},
   "outputs": [
    {
     "data": {
      "text/html": [
       "<div>\n",
       "<style scoped>\n",
       "    .dataframe tbody tr th:only-of-type {\n",
       "        vertical-align: middle;\n",
       "    }\n",
       "\n",
       "    .dataframe tbody tr th {\n",
       "        vertical-align: top;\n",
       "    }\n",
       "\n",
       "    .dataframe thead th {\n",
       "        text-align: right;\n",
       "    }\n",
       "</style>\n",
       "<table border=\"1\" class=\"dataframe\">\n",
       "  <thead>\n",
       "    <tr style=\"text-align: right;\">\n",
       "      <th></th>\n",
       "      <th>Make</th>\n",
       "      <th>Model</th>\n",
       "      <th>Variant</th>\n",
       "      <th>Ex-Showroom_Price</th>\n",
       "      <th>Displacement</th>\n",
       "      <th>Cylinders</th>\n",
       "      <th>Drivetrain</th>\n",
       "      <th>Cylinder_Configuration</th>\n",
       "      <th>Emission_Norm</th>\n",
       "      <th>Engine_Location</th>\n",
       "      <th>...</th>\n",
       "      <th>Cooled_Glove_Box</th>\n",
       "      <th>Heated_Seats</th>\n",
       "      <th>Turbocharger</th>\n",
       "      <th>Rain_Sensing_Wipers</th>\n",
       "      <th>Paddle_Shifters</th>\n",
       "      <th>Automatic_Headlamps</th>\n",
       "      <th>Engine_Type</th>\n",
       "      <th>ASR_/_Traction_Control</th>\n",
       "      <th>Battery</th>\n",
       "      <th>Electric_Range</th>\n",
       "    </tr>\n",
       "  </thead>\n",
       "  <tbody>\n",
       "    <tr>\n",
       "      <th>0</th>\n",
       "      <td>False</td>\n",
       "      <td>False</td>\n",
       "      <td>False</td>\n",
       "      <td>False</td>\n",
       "      <td>False</td>\n",
       "      <td>False</td>\n",
       "      <td>False</td>\n",
       "      <td>False</td>\n",
       "      <td>False</td>\n",
       "      <td>False</td>\n",
       "      <td>...</td>\n",
       "      <td>True</td>\n",
       "      <td>True</td>\n",
       "      <td>True</td>\n",
       "      <td>True</td>\n",
       "      <td>True</td>\n",
       "      <td>True</td>\n",
       "      <td>True</td>\n",
       "      <td>True</td>\n",
       "      <td>True</td>\n",
       "      <td>True</td>\n",
       "    </tr>\n",
       "    <tr>\n",
       "      <th>1</th>\n",
       "      <td>False</td>\n",
       "      <td>False</td>\n",
       "      <td>False</td>\n",
       "      <td>False</td>\n",
       "      <td>False</td>\n",
       "      <td>False</td>\n",
       "      <td>False</td>\n",
       "      <td>False</td>\n",
       "      <td>False</td>\n",
       "      <td>False</td>\n",
       "      <td>...</td>\n",
       "      <td>True</td>\n",
       "      <td>True</td>\n",
       "      <td>True</td>\n",
       "      <td>True</td>\n",
       "      <td>True</td>\n",
       "      <td>True</td>\n",
       "      <td>True</td>\n",
       "      <td>True</td>\n",
       "      <td>True</td>\n",
       "      <td>True</td>\n",
       "    </tr>\n",
       "    <tr>\n",
       "      <th>2</th>\n",
       "      <td>False</td>\n",
       "      <td>False</td>\n",
       "      <td>False</td>\n",
       "      <td>False</td>\n",
       "      <td>False</td>\n",
       "      <td>False</td>\n",
       "      <td>False</td>\n",
       "      <td>False</td>\n",
       "      <td>False</td>\n",
       "      <td>False</td>\n",
       "      <td>...</td>\n",
       "      <td>True</td>\n",
       "      <td>True</td>\n",
       "      <td>True</td>\n",
       "      <td>True</td>\n",
       "      <td>True</td>\n",
       "      <td>True</td>\n",
       "      <td>True</td>\n",
       "      <td>True</td>\n",
       "      <td>True</td>\n",
       "      <td>True</td>\n",
       "    </tr>\n",
       "    <tr>\n",
       "      <th>3</th>\n",
       "      <td>False</td>\n",
       "      <td>False</td>\n",
       "      <td>False</td>\n",
       "      <td>False</td>\n",
       "      <td>False</td>\n",
       "      <td>False</td>\n",
       "      <td>False</td>\n",
       "      <td>False</td>\n",
       "      <td>False</td>\n",
       "      <td>False</td>\n",
       "      <td>...</td>\n",
       "      <td>True</td>\n",
       "      <td>True</td>\n",
       "      <td>True</td>\n",
       "      <td>True</td>\n",
       "      <td>True</td>\n",
       "      <td>True</td>\n",
       "      <td>True</td>\n",
       "      <td>True</td>\n",
       "      <td>True</td>\n",
       "      <td>True</td>\n",
       "    </tr>\n",
       "    <tr>\n",
       "      <th>4</th>\n",
       "      <td>False</td>\n",
       "      <td>False</td>\n",
       "      <td>False</td>\n",
       "      <td>False</td>\n",
       "      <td>False</td>\n",
       "      <td>False</td>\n",
       "      <td>False</td>\n",
       "      <td>False</td>\n",
       "      <td>False</td>\n",
       "      <td>False</td>\n",
       "      <td>...</td>\n",
       "      <td>True</td>\n",
       "      <td>True</td>\n",
       "      <td>True</td>\n",
       "      <td>True</td>\n",
       "      <td>True</td>\n",
       "      <td>True</td>\n",
       "      <td>True</td>\n",
       "      <td>True</td>\n",
       "      <td>True</td>\n",
       "      <td>True</td>\n",
       "    </tr>\n",
       "    <tr>\n",
       "      <th>...</th>\n",
       "      <td>...</td>\n",
       "      <td>...</td>\n",
       "      <td>...</td>\n",
       "      <td>...</td>\n",
       "      <td>...</td>\n",
       "      <td>...</td>\n",
       "      <td>...</td>\n",
       "      <td>...</td>\n",
       "      <td>...</td>\n",
       "      <td>...</td>\n",
       "      <td>...</td>\n",
       "      <td>...</td>\n",
       "      <td>...</td>\n",
       "      <td>...</td>\n",
       "      <td>...</td>\n",
       "      <td>...</td>\n",
       "      <td>...</td>\n",
       "      <td>...</td>\n",
       "      <td>...</td>\n",
       "      <td>...</td>\n",
       "      <td>...</td>\n",
       "    </tr>\n",
       "    <tr>\n",
       "      <th>1271</th>\n",
       "      <td>False</td>\n",
       "      <td>False</td>\n",
       "      <td>False</td>\n",
       "      <td>False</td>\n",
       "      <td>False</td>\n",
       "      <td>False</td>\n",
       "      <td>False</td>\n",
       "      <td>False</td>\n",
       "      <td>False</td>\n",
       "      <td>False</td>\n",
       "      <td>...</td>\n",
       "      <td>True</td>\n",
       "      <td>True</td>\n",
       "      <td>False</td>\n",
       "      <td>True</td>\n",
       "      <td>True</td>\n",
       "      <td>True</td>\n",
       "      <td>True</td>\n",
       "      <td>True</td>\n",
       "      <td>True</td>\n",
       "      <td>True</td>\n",
       "    </tr>\n",
       "    <tr>\n",
       "      <th>1272</th>\n",
       "      <td>False</td>\n",
       "      <td>False</td>\n",
       "      <td>False</td>\n",
       "      <td>False</td>\n",
       "      <td>False</td>\n",
       "      <td>False</td>\n",
       "      <td>False</td>\n",
       "      <td>False</td>\n",
       "      <td>False</td>\n",
       "      <td>False</td>\n",
       "      <td>...</td>\n",
       "      <td>False</td>\n",
       "      <td>True</td>\n",
       "      <td>False</td>\n",
       "      <td>False</td>\n",
       "      <td>True</td>\n",
       "      <td>False</td>\n",
       "      <td>True</td>\n",
       "      <td>True</td>\n",
       "      <td>True</td>\n",
       "      <td>True</td>\n",
       "    </tr>\n",
       "    <tr>\n",
       "      <th>1273</th>\n",
       "      <td>False</td>\n",
       "      <td>False</td>\n",
       "      <td>False</td>\n",
       "      <td>False</td>\n",
       "      <td>False</td>\n",
       "      <td>False</td>\n",
       "      <td>False</td>\n",
       "      <td>False</td>\n",
       "      <td>False</td>\n",
       "      <td>False</td>\n",
       "      <td>...</td>\n",
       "      <td>True</td>\n",
       "      <td>True</td>\n",
       "      <td>True</td>\n",
       "      <td>True</td>\n",
       "      <td>False</td>\n",
       "      <td>False</td>\n",
       "      <td>True</td>\n",
       "      <td>True</td>\n",
       "      <td>True</td>\n",
       "      <td>True</td>\n",
       "    </tr>\n",
       "    <tr>\n",
       "      <th>1274</th>\n",
       "      <td>False</td>\n",
       "      <td>False</td>\n",
       "      <td>False</td>\n",
       "      <td>False</td>\n",
       "      <td>False</td>\n",
       "      <td>False</td>\n",
       "      <td>False</td>\n",
       "      <td>False</td>\n",
       "      <td>False</td>\n",
       "      <td>False</td>\n",
       "      <td>...</td>\n",
       "      <td>True</td>\n",
       "      <td>True</td>\n",
       "      <td>True</td>\n",
       "      <td>True</td>\n",
       "      <td>False</td>\n",
       "      <td>True</td>\n",
       "      <td>True</td>\n",
       "      <td>True</td>\n",
       "      <td>True</td>\n",
       "      <td>True</td>\n",
       "    </tr>\n",
       "    <tr>\n",
       "      <th>1275</th>\n",
       "      <td>False</td>\n",
       "      <td>False</td>\n",
       "      <td>False</td>\n",
       "      <td>False</td>\n",
       "      <td>False</td>\n",
       "      <td>False</td>\n",
       "      <td>False</td>\n",
       "      <td>False</td>\n",
       "      <td>False</td>\n",
       "      <td>False</td>\n",
       "      <td>...</td>\n",
       "      <td>False</td>\n",
       "      <td>False</td>\n",
       "      <td>False</td>\n",
       "      <td>False</td>\n",
       "      <td>True</td>\n",
       "      <td>True</td>\n",
       "      <td>True</td>\n",
       "      <td>False</td>\n",
       "      <td>True</td>\n",
       "      <td>True</td>\n",
       "    </tr>\n",
       "  </tbody>\n",
       "</table>\n",
       "<p>1276 rows × 132 columns</p>\n",
       "</div>"
      ],
      "text/plain": [
       "       Make  Model  Variant  Ex-Showroom_Price  Displacement  Cylinders  \\\n",
       "0     False  False    False              False         False      False   \n",
       "1     False  False    False              False         False      False   \n",
       "2     False  False    False              False         False      False   \n",
       "3     False  False    False              False         False      False   \n",
       "4     False  False    False              False         False      False   \n",
       "...     ...    ...      ...                ...           ...        ...   \n",
       "1271  False  False    False              False         False      False   \n",
       "1272  False  False    False              False         False      False   \n",
       "1273  False  False    False              False         False      False   \n",
       "1274  False  False    False              False         False      False   \n",
       "1275  False  False    False              False         False      False   \n",
       "\n",
       "      Drivetrain  Cylinder_Configuration  Emission_Norm  Engine_Location  ...  \\\n",
       "0          False                   False          False            False  ...   \n",
       "1          False                   False          False            False  ...   \n",
       "2          False                   False          False            False  ...   \n",
       "3          False                   False          False            False  ...   \n",
       "4          False                   False          False            False  ...   \n",
       "...          ...                     ...            ...              ...  ...   \n",
       "1271       False                   False          False            False  ...   \n",
       "1272       False                   False          False            False  ...   \n",
       "1273       False                   False          False            False  ...   \n",
       "1274       False                   False          False            False  ...   \n",
       "1275       False                   False          False            False  ...   \n",
       "\n",
       "      Cooled_Glove_Box  Heated_Seats  Turbocharger  Rain_Sensing_Wipers  \\\n",
       "0                 True          True          True                 True   \n",
       "1                 True          True          True                 True   \n",
       "2                 True          True          True                 True   \n",
       "3                 True          True          True                 True   \n",
       "4                 True          True          True                 True   \n",
       "...                ...           ...           ...                  ...   \n",
       "1271              True          True         False                 True   \n",
       "1272             False          True         False                False   \n",
       "1273              True          True          True                 True   \n",
       "1274              True          True          True                 True   \n",
       "1275             False         False         False                False   \n",
       "\n",
       "      Paddle_Shifters  Automatic_Headlamps  Engine_Type  \\\n",
       "0                True                 True         True   \n",
       "1                True                 True         True   \n",
       "2                True                 True         True   \n",
       "3                True                 True         True   \n",
       "4                True                 True         True   \n",
       "...               ...                  ...          ...   \n",
       "1271             True                 True         True   \n",
       "1272             True                False         True   \n",
       "1273            False                False         True   \n",
       "1274            False                 True         True   \n",
       "1275             True                 True         True   \n",
       "\n",
       "      ASR_/_Traction_Control  Battery  Electric_Range  \n",
       "0                       True     True            True  \n",
       "1                       True     True            True  \n",
       "2                       True     True            True  \n",
       "3                       True     True            True  \n",
       "4                       True     True            True  \n",
       "...                      ...      ...             ...  \n",
       "1271                    True     True            True  \n",
       "1272                    True     True            True  \n",
       "1273                    True     True            True  \n",
       "1274                    True     True            True  \n",
       "1275                   False     True            True  \n",
       "\n",
       "[1276 rows x 132 columns]"
      ]
     },
     "execution_count": 14,
     "metadata": {},
     "output_type": "execute_result"
    }
   ],
   "source": [
    "df.isnull()"
   ]
  },
  {
   "cell_type": "code",
   "execution_count": 15,
   "metadata": {
    "scrolled": true
   },
   "outputs": [
    {
     "ename": "SyntaxError",
     "evalue": "invalid syntax (<ipython-input-15-bf6ac14ff685>, line 1)",
     "output_type": "error",
     "traceback": [
      "\u001b[1;36m  File \u001b[1;32m\"<ipython-input-15-bf6ac14ff685>\"\u001b[1;36m, line \u001b[1;32m1\u001b[0m\n\u001b[1;33m    df=lambda x: if x==Ture else 0\u001b[0m\n\u001b[1;37m                  ^\u001b[0m\n\u001b[1;31mSyntaxError\u001b[0m\u001b[1;31m:\u001b[0m invalid syntax\n"
     ]
    }
   ],
   "source": [
    "df=lambda x: if x==Ture else 0"
   ]
  },
  {
   "cell_type": "code",
   "execution_count": 16,
   "metadata": {},
   "outputs": [
    {
     "ename": "SyntaxError",
     "evalue": "invalid syntax (<ipython-input-16-000b757a6009>, line 1)",
     "output_type": "error",
     "traceback": [
      "\u001b[1;36m  File \u001b[1;32m\"<ipython-input-16-000b757a6009>\"\u001b[1;36m, line \u001b[1;32m1\u001b[0m\n\u001b[1;33m    df.replace(to_replace=[\"True\":1,\"False\":0])\u001b[0m\n\u001b[1;37m                                 ^\u001b[0m\n\u001b[1;31mSyntaxError\u001b[0m\u001b[1;31m:\u001b[0m invalid syntax\n"
     ]
    }
   ],
   "source": [
    "df.replace(to_replace=[\"True\":1,\"False\":0])"
   ]
  },
  {
   "cell_type": "code",
   "execution_count": null,
   "metadata": {},
   "outputs": [],
   "source": [
    "##### df.replace({'NaN':0})"
   ]
  },
  {
   "cell_type": "code",
   "execution_count": null,
   "metadata": {},
   "outputs": [],
   "source": []
  },
  {
   "cell_type": "code",
   "execution_count": null,
   "metadata": {},
   "outputs": [],
   "source": [
    "# Mapping the numercal value to correspondig string\n",
    "df.season = df.season.map({1:\"spring\", 2:\"summer\", 3:\"fall\", 4:\"winter\"})"
   ]
  },
  {
   "cell_type": "code",
   "execution_count": null,
   "metadata": {},
   "outputs": [],
   "source": [
    "df.season.unique()"
   ]
  },
  {
   "cell_type": "code",
   "execution_count": null,
   "metadata": {},
   "outputs": [],
   "source": [
    "df.mnth.unique()"
   ]
  },
  {
   "cell_type": "code",
   "execution_count": null,
   "metadata": {},
   "outputs": [],
   "source": [
    "# Mapping the numercal value to correspondig string\n",
    "dict_mnth = {1:\"Jan\",2:\"Feb\",3:\"Mar\",4:\"Apr\",5:\"May\",6:\"Jun\",7:\"Jul\",8:\"Aug\",9:\"Sep\",10:\"Oct\",11:\"Nov\",12:\"Dec\"}\n",
    "df.mnth = df.mnth.map(dict_mnth)"
   ]
  },
  {
   "cell_type": "code",
   "execution_count": null,
   "metadata": {},
   "outputs": [],
   "source": [
    "df.mnth.unique()"
   ]
  },
  {
   "cell_type": "code",
   "execution_count": null,
   "metadata": {},
   "outputs": [],
   "source": [
    "df.weekday.unique()"
   ]
  },
  {
   "cell_type": "code",
   "execution_count": null,
   "metadata": {
    "scrolled": true
   },
   "outputs": [],
   "source": [
    "# Mapping the numercal value to correspondig string\n",
    "key_weekday = [6, 0, 1, 2, 3, 4, 5]\n",
    "val_weekday = [\"Sat\",\"Sun\",\"Mon\",\"Tue\",\"Wed\",\"Thu\",\"Fri\"]\n",
    "dict_weekday = dict(zip(key_weekday,val_weekday))\n",
    "df.weekday = df.weekday.map(dict_weekday)\n",
    "df.weekday.unique()"
   ]
  },
  {
   "cell_type": "code",
   "execution_count": null,
   "metadata": {},
   "outputs": [],
   "source": [
    "dict_weekday"
   ]
  },
  {
   "cell_type": "code",
   "execution_count": null,
   "metadata": {},
   "outputs": [],
   "source": [
    "df.weathersit.unique()"
   ]
  },
  {
   "cell_type": "code",
   "execution_count": null,
   "metadata": {},
   "outputs": [],
   "source": [
    "# Mapping the numercal value to correspondig string\n",
    "key_weathersit = [1,2,3]\n",
    "val_weathersit=[\"Clear\",\"Mist + Cloudy\",\"Light Snow\", ]\n",
    "dict_weathersit = dict(zip(key_weathersit,val_weathersit))\n",
    "df.weathersit = df.weathersit.map(dict_weathersit)\n",
    "df.weathersit.unique()"
   ]
  },
  {
   "cell_type": "code",
   "execution_count": null,
   "metadata": {
    "scrolled": true
   },
   "outputs": [],
   "source": [
    "df.info()"
   ]
  },
  {
   "cell_type": "code",
   "execution_count": null,
   "metadata": {},
   "outputs": [],
   "source": [
    "sns.pairplot(df)\n",
    "plt.show()"
   ]
  },
  {
   "cell_type": "code",
   "execution_count": null,
   "metadata": {},
   "outputs": [],
   "source": [
    "columns = ['season','mnth','weekday','weathersit']\n",
    "sns.set(font_scale = 2)\n",
    "plt.figure(figsize = (20,20))\n",
    "for i in enumerate(columns):\n",
    "    plt.subplot(4,2,i[0]+1)\n",
    "    sns.boxplot(x=i[1], y='cnt', data = df)\n",
    "    plt.xticks(rotation = 90)\n",
    "plt.tight_layout(pad=1.0)\n",
    "sns.reset_orig()"
   ]
  },
  {
   "cell_type": "markdown",
   "metadata": {},
   "source": [
    "### Following can be deduced from the above plot\n",
    "##### 1.If the weather condition is  Clear, Few clouds, Partly cloudy, Partly cloudy the demand is high compared to when other weather conditions.\n",
    "##### 2. Demand is highest during the month of Jul\n",
    "##### 3. Demand is highest during fall season\n",
    "##### 4. The average demand during the various days of the week is more or less the same"
   ]
  },
  {
   "cell_type": "code",
   "execution_count": null,
   "metadata": {
    "scrolled": false
   },
   "outputs": [],
   "source": [
    "sns.barplot(x=df['holiday'], y=df.cnt, data=df);"
   ]
  },
  {
   "cell_type": "markdown",
   "metadata": {},
   "source": [
    "### On a holiday the demand of bike a bit less than that on a non holiday. Hence, it isevident that atleast some portion of the population use the bike service to commute for work"
   ]
  },
  {
   "cell_type": "code",
   "execution_count": null,
   "metadata": {
    "scrolled": false
   },
   "outputs": [],
   "source": [
    "sns.barplot(x=df.workingday, y=df.cnt, hue=df['holiday'], data=df);"
   ]
  },
  {
   "cell_type": "markdown",
   "metadata": {},
   "source": [
    "### The demand is higher on a non working day when it is not a calender holiday as compared to when its a clender holiday."
   ]
  },
  {
   "cell_type": "code",
   "execution_count": null,
   "metadata": {
    "scrolled": false
   },
   "outputs": [],
   "source": [
    "sns.barplot(x=df.yr, y=df.cnt, data=df);"
   ]
  },
  {
   "cell_type": "markdown",
   "metadata": {},
   "source": [
    "### Demand in 2019 is higher than that in 2018"
   ]
  },
  {
   "cell_type": "code",
   "execution_count": null,
   "metadata": {
    "scrolled": true
   },
   "outputs": [],
   "source": [
    "\n",
    "plt.figure(figsize = (5,4))\n",
    "sns.heatmap(df[['temp','hum', 'windspeed','cnt']].corr(), annot = True, cmap=\"YlGnBu\")\n",
    "plt.show()"
   ]
  },
  {
   "cell_type": "markdown",
   "metadata": {},
   "source": [
    "### Demand and temparature have a high positive correlation."
   ]
  },
  {
   "cell_type": "markdown",
   "metadata": {},
   "source": [
    "## Data Preparation"
   ]
  },
  {
   "cell_type": "code",
   "execution_count": null,
   "metadata": {},
   "outputs": [],
   "source": [
    "#Creating a dummy dataframe\n",
    "dummy_season = pd.get_dummies(df.season, drop_first = False)"
   ]
  },
  {
   "cell_type": "code",
   "execution_count": null,
   "metadata": {},
   "outputs": [],
   "source": [
    "# Dropping Spring as it corresponds to least demand\n",
    "dummy_season = dummy_season.drop('spring', axis = 1)\n",
    "dummy_season.head()"
   ]
  },
  {
   "cell_type": "code",
   "execution_count": null,
   "metadata": {},
   "outputs": [],
   "source": [
    "#Concatenating the dummy column with the actual dataframe\n",
    "df = pd.concat([df,dummy_season], axis =1)\n",
    "df.head()"
   ]
  },
  {
   "cell_type": "code",
   "execution_count": null,
   "metadata": {},
   "outputs": [],
   "source": [
    "# Dropping the 'season' column after dummifying is done\n",
    "df.drop(['season'], axis =1 , inplace = True)"
   ]
  },
  {
   "cell_type": "code",
   "execution_count": null,
   "metadata": {},
   "outputs": [],
   "source": [
    "df.head()"
   ]
  },
  {
   "cell_type": "code",
   "execution_count": null,
   "metadata": {},
   "outputs": [],
   "source": [
    "df.mnth.unique()"
   ]
  },
  {
   "cell_type": "code",
   "execution_count": null,
   "metadata": {},
   "outputs": [],
   "source": [
    "#Creating a dummy dataframe, concatinating and then dorping the actual column\n",
    "dummy_mnth = pd.get_dummies(df.mnth, drop_first = False)\n",
    "# Dropping Jan as it corresponds to least demand\n",
    "dummy_mnth = dummy_mnth.drop('Jan', axis = 1)\n",
    "df = pd.concat([df,dummy_mnth], axis =1)\n",
    "df.drop(['mnth'], axis =1 , inplace = True)"
   ]
  },
  {
   "cell_type": "code",
   "execution_count": null,
   "metadata": {
    "scrolled": true
   },
   "outputs": [],
   "source": [
    "#Creating a dummy dataframe, concatinating and then dorping the actual column\n",
    "dummy_weekday = pd.get_dummies(df.weekday, drop_first = True)\n",
    "df = pd.concat([df,dummy_weekday], axis =1)\n",
    "df.drop(['weekday'], axis =1 , inplace = True)"
   ]
  },
  {
   "cell_type": "code",
   "execution_count": null,
   "metadata": {},
   "outputs": [],
   "source": [
    "#Creating a dummy dataframe, concatinating and then dorping the actual column\n",
    "dummy_weathersit = pd.get_dummies(df.weathersit, drop_first = False)\n",
    "# Dropping Light Snow as it corresponds to least demand\n",
    "dummy_weathersit = dummy_weathersit.drop('Light Snow', axis = 1)\n",
    "df = pd.concat([df,dummy_weathersit], axis =1)\n",
    "df.drop(['weathersit'], axis =1 , inplace = True)"
   ]
  },
  {
   "cell_type": "code",
   "execution_count": null,
   "metadata": {
    "scrolled": true
   },
   "outputs": [],
   "source": [
    "df.info()"
   ]
  },
  {
   "cell_type": "code",
   "execution_count": null,
   "metadata": {},
   "outputs": [],
   "source": [
    "import matplotlib.pyplot as plt\n",
    "import seaborn as sns"
   ]
  },
  {
   "cell_type": "code",
   "execution_count": null,
   "metadata": {},
   "outputs": [],
   "source": [
    "pd.set_option('display.max_columns', None)\n",
    "pd.set_option('display.max_row', None)"
   ]
  },
  {
   "cell_type": "code",
   "execution_count": null,
   "metadata": {},
   "outputs": [],
   "source": [
    "df.head()"
   ]
  },
  {
   "cell_type": "markdown",
   "metadata": {},
   "source": [
    "# Spliting the dataset into test and train data"
   ]
  },
  {
   "cell_type": "code",
   "execution_count": null,
   "metadata": {},
   "outputs": [],
   "source": [
    "from sklearn.model_selection import train_test_split\n",
    "np.random.seed(0)\n",
    "df_train, df_test = train_test_split(df, train_size = 0.7, test_size = 0.3, random_state = 100)"
   ]
  },
  {
   "cell_type": "code",
   "execution_count": null,
   "metadata": {},
   "outputs": [],
   "source": [
    "df_test.shape"
   ]
  },
  {
   "cell_type": "code",
   "execution_count": null,
   "metadata": {},
   "outputs": [],
   "source": [
    "#checking the shape of the train data\n",
    "df_train.shape"
   ]
  },
  {
   "cell_type": "code",
   "execution_count": null,
   "metadata": {},
   "outputs": [],
   "source": [
    "# Rescaling the train dataset\n",
    "from sklearn.preprocessing import MinMaxScaler\n",
    "scaler = MinMaxScaler()\n",
    "number_vars = ['cnt','temp','hum','windspeed']\n",
    "df_train[number_vars] = scaler.fit_transform(df_train[number_vars])\n"
   ]
  },
  {
   "cell_type": "code",
   "execution_count": null,
   "metadata": {},
   "outputs": [],
   "source": [
    "df_train.describe()"
   ]
  },
  {
   "cell_type": "code",
   "execution_count": null,
   "metadata": {},
   "outputs": [],
   "source": [
    "y_train = df_train.pop('cnt')\n",
    "y_train.head()"
   ]
  },
  {
   "cell_type": "code",
   "execution_count": null,
   "metadata": {},
   "outputs": [],
   "source": [
    "X_train = df_train\n",
    "X_train.head()"
   ]
  },
  {
   "cell_type": "code",
   "execution_count": null,
   "metadata": {},
   "outputs": [],
   "source": [
    "sns.reset_orig()\n",
    "plt.figure(figsize = (20,20))\n",
    "sns.heatmap(X_train.corr(), annot = True, cmap=\"YlGnBu\")\n",
    "plt.show()"
   ]
  },
  {
   "cell_type": "code",
   "execution_count": null,
   "metadata": {},
   "outputs": [],
   "source": [
    "from sklearn.feature_selection import RFE\n",
    "from sklearn.linear_model import LinearRegression"
   ]
  },
  {
   "cell_type": "code",
   "execution_count": 12,
   "metadata": {},
   "outputs": [
    {
     "ename": "NameError",
     "evalue": "name 'X_train' is not defined",
     "output_type": "error",
     "traceback": [
      "\u001b[1;31m---------------------------------------------------------------------------\u001b[0m",
      "\u001b[1;31mNameError\u001b[0m                                 Traceback (most recent call last)",
      "\u001b[1;32m<ipython-input-12-07a74abea4cd>\u001b[0m in \u001b[0;36m<module>\u001b[1;34m\u001b[0m\n\u001b[0;32m      1\u001b[0m \u001b[0mlm\u001b[0m\u001b[1;33m=\u001b[0m \u001b[0mLinearRegression\u001b[0m\u001b[1;33m(\u001b[0m\u001b[1;33m)\u001b[0m\u001b[1;33m\u001b[0m\u001b[1;33m\u001b[0m\u001b[0m\n\u001b[1;32m----> 2\u001b[1;33m \u001b[0mlm\u001b[0m\u001b[1;33m.\u001b[0m\u001b[0mfit\u001b[0m\u001b[1;33m(\u001b[0m\u001b[0mX_train\u001b[0m\u001b[1;33m,\u001b[0m\u001b[0my_train\u001b[0m\u001b[1;33m)\u001b[0m\u001b[1;33m\u001b[0m\u001b[1;33m\u001b[0m\u001b[0m\n\u001b[0m\u001b[0;32m      3\u001b[0m \u001b[1;33m\u001b[0m\u001b[0m\n\u001b[0;32m      4\u001b[0m \u001b[0mrfe\u001b[0m \u001b[1;33m=\u001b[0m \u001b[0mRFE\u001b[0m\u001b[1;33m(\u001b[0m\u001b[0mlm\u001b[0m\u001b[1;33m,\u001b[0m\u001b[1;36m15\u001b[0m\u001b[1;33m)\u001b[0m\u001b[1;33m\u001b[0m\u001b[1;33m\u001b[0m\u001b[0m\n\u001b[0;32m      5\u001b[0m \u001b[0mrfe\u001b[0m\u001b[1;33m.\u001b[0m\u001b[0mfit\u001b[0m\u001b[1;33m(\u001b[0m\u001b[0mX_train\u001b[0m\u001b[1;33m,\u001b[0m\u001b[0my_train\u001b[0m\u001b[1;33m)\u001b[0m\u001b[1;33m\u001b[0m\u001b[1;33m\u001b[0m\u001b[0m\n",
      "\u001b[1;31mNameError\u001b[0m: name 'X_train' is not defined"
     ]
    }
   ],
   "source": [
    "lm= LinearRegression()\n",
    "lm.fit(X_train,y_train)\n",
    "\n",
    "rfe = RFE(lm,15)\n",
    "rfe.fit(X_train,y_train)"
   ]
  },
  {
   "cell_type": "code",
   "execution_count": null,
   "metadata": {},
   "outputs": [],
   "source": [
    "list(zip(X_train.columns,rfe.support_,rfe.ranking_))"
   ]
  },
  {
   "cell_type": "code",
   "execution_count": null,
   "metadata": {},
   "outputs": [],
   "source": [
    "selected_column = X_train.columns[rfe.support_]"
   ]
  },
  {
   "cell_type": "code",
   "execution_count": null,
   "metadata": {},
   "outputs": [],
   "source": [
    "print(selected_column)"
   ]
  },
  {
   "cell_type": "code",
   "execution_count": null,
   "metadata": {},
   "outputs": [],
   "source": [
    "#selected_column = ['yr', 'holiday', 'workingday', 'temp', 'hum', 'windspeed', 'spring',\n",
    "#     'summer', 'winter', 'Jan', 'Jul', 'Sep', 'Sat', 'Light Snow',\n",
    "#     'Mist + Cloudy']"
   ]
  },
  {
   "cell_type": "code",
   "execution_count": null,
   "metadata": {},
   "outputs": [],
   "source": [
    "X_train.columns[~rfe.support_]"
   ]
  },
  {
   "cell_type": "code",
   "execution_count": null,
   "metadata": {},
   "outputs": [],
   "source": [
    "X_train_rfe = X_train[selected_column]"
   ]
  },
  {
   "cell_type": "code",
   "execution_count": null,
   "metadata": {
    "scrolled": true
   },
   "outputs": [],
   "source": [
    "X_train_rfe.head()"
   ]
  },
  {
   "cell_type": "code",
   "execution_count": null,
   "metadata": {},
   "outputs": [],
   "source": [
    "import statsmodels.api as sm"
   ]
  },
  {
   "cell_type": "code",
   "execution_count": null,
   "metadata": {},
   "outputs": [],
   "source": [
    "X_train_rfe.head()"
   ]
  },
  {
   "cell_type": "code",
   "execution_count": null,
   "metadata": {},
   "outputs": [],
   "source": [
    "X_train_lm = sm.add_constant(X_train_rfe)"
   ]
  },
  {
   "cell_type": "code",
   "execution_count": null,
   "metadata": {},
   "outputs": [],
   "source": [
    "X_train_lm.head()"
   ]
  },
  {
   "cell_type": "code",
   "execution_count": null,
   "metadata": {},
   "outputs": [],
   "source": [
    "lr_1 = sm.OLS(y_train,X_train_lm).fit()"
   ]
  },
  {
   "cell_type": "code",
   "execution_count": null,
   "metadata": {
    "scrolled": true
   },
   "outputs": [],
   "source": [
    "lr_1.params"
   ]
  },
  {
   "cell_type": "code",
   "execution_count": null,
   "metadata": {
    "scrolled": false
   },
   "outputs": [],
   "source": [
    "lr_1.summary()"
   ]
  },
  {
   "cell_type": "code",
   "execution_count": null,
   "metadata": {},
   "outputs": [],
   "source": [
    "from statsmodels.stats.outliers_influence import variance_inflation_factor"
   ]
  },
  {
   "cell_type": "code",
   "execution_count": null,
   "metadata": {},
   "outputs": [],
   "source": [
    "vif = pd.DataFrame()\n",
    "vif['Feature'] = X_train_rfe.columns\n",
    "vif['VIF'] = [variance_inflation_factor(X_train_rfe.values,i) for i in range(X_train_rfe.shape[1])]\n",
    "vif['VIF'] = round(vif['VIF'] , 2)\n",
    "vif = vif.sort_values(by = \"VIF\", ascending = False)\n",
    "vif"
   ]
  },
  {
   "cell_type": "code",
   "execution_count": null,
   "metadata": {},
   "outputs": [],
   "source": [
    "# Dropping Sun as it has p values > 0.05\n",
    "X_train_revised1 = X_train_rfe.drop('Sun', axis = 1)"
   ]
  },
  {
   "cell_type": "code",
   "execution_count": null,
   "metadata": {},
   "outputs": [],
   "source": [
    "X_train_revised1.head()"
   ]
  },
  {
   "cell_type": "code",
   "execution_count": null,
   "metadata": {
    "scrolled": true
   },
   "outputs": [],
   "source": [
    "X_train_lm = sm.add_constant(X_train_revised1)\n",
    "lr_2 = sm.OLS(y_train,X_train_lm).fit()\n",
    "lr_2.params"
   ]
  },
  {
   "cell_type": "code",
   "execution_count": null,
   "metadata": {
    "scrolled": true
   },
   "outputs": [],
   "source": [
    "lr_2.summary()"
   ]
  },
  {
   "cell_type": "code",
   "execution_count": null,
   "metadata": {
    "scrolled": true
   },
   "outputs": [],
   "source": [
    "vif2 = pd.DataFrame()\n",
    "vif2['Feature'] = X_train_revised1.columns\n",
    "vif2['VIF'] = [variance_inflation_factor(X_train_revised1.values,i) for i in range(X_train_revised1.shape[1])]\n",
    "vif2['VIF'] = round(vif2['VIF'] , 2)\n",
    "vif2 = vif2.sort_values(by = \"VIF\", ascending = False)\n",
    "vif2"
   ]
  },
  {
   "cell_type": "code",
   "execution_count": null,
   "metadata": {},
   "outputs": [],
   "source": [
    "# Dropping 'hum' as teh VIF is high and all other variables have P value < 0.05\n",
    "X_train_revised2_1 = X_train_revised1.drop(['hum'], axis = 1)"
   ]
  },
  {
   "cell_type": "code",
   "execution_count": null,
   "metadata": {},
   "outputs": [],
   "source": [
    "X_train_revised2_1.head()"
   ]
  },
  {
   "cell_type": "code",
   "execution_count": null,
   "metadata": {},
   "outputs": [],
   "source": [
    "X_train_lm = sm.add_constant(X_train_revised2_1)\n",
    "lr_3 = sm.OLS(y_train,X_train_lm).fit()\n",
    "lr_3.summary()"
   ]
  },
  {
   "cell_type": "code",
   "execution_count": null,
   "metadata": {},
   "outputs": [],
   "source": [
    "vif3 = pd.DataFrame()\n",
    "vif3['Feature'] = X_train_revised2_1.columns\n",
    "vif3['VIF'] = [variance_inflation_factor(X_train_revised2_1.values,i) for i in range(X_train_revised2_1.shape[1])]\n",
    "vif3['VIF'] = round(vif3['VIF'] , 2)\n",
    "vif3 = vif3.sort_values(by = \"VIF\", ascending = False)\n",
    "vif3"
   ]
  },
  {
   "cell_type": "code",
   "execution_count": null,
   "metadata": {},
   "outputs": [],
   "source": [
    "# Dropping 'holiday' as the P value is close to 0.05\n",
    "X_train_revised2_2 = X_train_revised2_1.drop(['workingday'], axis = 1)"
   ]
  },
  {
   "cell_type": "code",
   "execution_count": null,
   "metadata": {},
   "outputs": [],
   "source": [
    "X_train_lm = sm.add_constant(X_train_revised2_2)\n",
    "lr_4 = sm.OLS(y_train,X_train_lm).fit()\n",
    "lr_4.summary()"
   ]
  },
  {
   "cell_type": "code",
   "execution_count": null,
   "metadata": {},
   "outputs": [],
   "source": [
    "vif4 = pd.DataFrame()\n",
    "vif4['Feature'] = X_train_revised2_2.columns\n",
    "vif4['VIF'] = [variance_inflation_factor(X_train_revised2_2.values,i) for i in range(X_train_revised2_2.shape[1])]\n",
    "vif4['VIF'] = round(vif4['VIF'] , 2)\n",
    "vif4 = vif4.sort_values(by = \"VIF\", ascending = False)\n",
    "vif4"
   ]
  },
  {
   "cell_type": "code",
   "execution_count": null,
   "metadata": {},
   "outputs": [],
   "source": [
    "# Dropping variable 'Oct' it has high p values\n",
    "X_train_revised4 = X_train_revised2_2.drop(['Oct'], axis = 1)"
   ]
  },
  {
   "cell_type": "code",
   "execution_count": null,
   "metadata": {},
   "outputs": [],
   "source": [
    "X_train_lm = sm.add_constant(X_train_revised4)\n",
    "lr_5 = sm.OLS(y_train,X_train_lm).fit()\n",
    "lr_5.summary()"
   ]
  },
  {
   "cell_type": "code",
   "execution_count": null,
   "metadata": {},
   "outputs": [],
   "source": [
    "vif5 = pd.DataFrame()\n",
    "vif5['Feature'] = X_train_revised4.columns\n",
    "vif5['VIF'] = [variance_inflation_factor(X_train_revised4.values,i) for i in range(X_train_revised4.shape[1])]\n",
    "vif5['VIF'] = round(vif5['VIF'] , 2)\n",
    "vif5 = vif5.sort_values(by = \"VIF\", ascending = False)\n",
    "vif5"
   ]
  },
  {
   "cell_type": "code",
   "execution_count": null,
   "metadata": {},
   "outputs": [],
   "source": [
    "# Dropping 'Sat' as P Values is high\n",
    "X_train_revised5_1 = X_train_revised4.drop(['Sat'], axis = 1)"
   ]
  },
  {
   "cell_type": "code",
   "execution_count": null,
   "metadata": {},
   "outputs": [],
   "source": [
    "X_train_lm = sm.add_constant(X_train_revised5_1)\n",
    "lr_6 = sm.OLS(y_train,X_train_lm).fit()\n",
    "lr_6.summary()"
   ]
  },
  {
   "cell_type": "code",
   "execution_count": null,
   "metadata": {},
   "outputs": [],
   "source": [
    "vif6 = pd.DataFrame()\n",
    "vif6['Feature'] = X_train_revised5_1.columns\n",
    "vif6['VIF'] = [variance_inflation_factor(X_train_revised5_1.values,i) for i in range(X_train_revised5_1.shape[1])]\n",
    "vif6['VIF'] = round(vif6['VIF'] , 2)\n",
    "vif6 = vif6.sort_values(by = \"VIF\", ascending = False)\n",
    "vif6"
   ]
  },
  {
   "cell_type": "code",
   "execution_count": null,
   "metadata": {},
   "outputs": [],
   "source": [
    "# Dropping variable 'temp' as it is high VIF\n",
    "X_train_revised6 = X_train_revised5_1.drop(['temp'], axis = 1)"
   ]
  },
  {
   "cell_type": "code",
   "execution_count": null,
   "metadata": {},
   "outputs": [],
   "source": [
    "X_train_lm = sm.add_constant(X_train_revised6)\n",
    "lr_7 = sm.OLS(y_train,X_train_lm).fit()\n",
    "lr_7.summary()"
   ]
  },
  {
   "cell_type": "code",
   "execution_count": null,
   "metadata": {},
   "outputs": [],
   "source": [
    "vif7 = pd.DataFrame()\n",
    "vif7['Feature'] = X_train_revised6.columns\n",
    "vif7['VIF'] = [variance_inflation_factor(X_train_revised6.values,i) for i in range(X_train_revised6.shape[1])]\n",
    "vif7['VIF'] = round(vif7['VIF'] , 2)\n",
    "vif7 = vif7.sort_values(by = \"VIF\", ascending = False)\n",
    "vif7"
   ]
  },
  {
   "cell_type": "markdown",
   "metadata": {},
   "source": [
    "### The R-sqaured value drops significantly (from 0.834 to 0.65) hence cannot remove 'temp' variable at this point atleast. Moreover, the 'temp' variable has high correlation with the target variable 'cnt'. Hence, will trying to remove other variables that are correlated with 'temp'."
   ]
  },
  {
   "cell_type": "code",
   "execution_count": null,
   "metadata": {},
   "outputs": [],
   "source": [
    "sns.reset_orig()\n",
    "plt.figure(figsize = (20,20))\n",
    "sns.heatmap(X_train_revised5_1.corr(), annot = True, cmap=\"YlGnBu\")\n",
    "plt.show()"
   ]
  },
  {
   "cell_type": "code",
   "execution_count": null,
   "metadata": {},
   "outputs": [],
   "source": [
    "# Dropping 'Aug' as the it has high correlation with temp\n",
    "X_train_revised7 = X_train_revised5_1.drop(['Aug'], axis = 1)"
   ]
  },
  {
   "cell_type": "code",
   "execution_count": null,
   "metadata": {},
   "outputs": [],
   "source": [
    "X_train_lm = sm.add_constant(X_train_revised7)\n",
    "lr_8 = sm.OLS(y_train,X_train_lm).fit()\n",
    "lr_8.summary()"
   ]
  },
  {
   "cell_type": "code",
   "execution_count": null,
   "metadata": {},
   "outputs": [],
   "source": [
    "vif8 = pd.DataFrame()\n",
    "vif8['Feature'] = X_train_revised7.columns\n",
    "vif8['VIF'] = [variance_inflation_factor(X_train_revised7.values,i) for i in range(X_train_revised7.shape[1])]\n",
    "vif8['VIF'] = round(vif8['VIF'] , 2)\n",
    "vif8 = vif8.sort_values(by = \"VIF\", ascending = False)\n",
    "vif8"
   ]
  },
  {
   "cell_type": "code",
   "execution_count": null,
   "metadata": {},
   "outputs": [],
   "source": [
    "# Dropping 'Clear' as the Clear has high VIF\n",
    "X_train_revised8 = X_train_revised7.drop(['Clear'], axis = 1)"
   ]
  },
  {
   "cell_type": "code",
   "execution_count": null,
   "metadata": {},
   "outputs": [],
   "source": [
    "X_train_lm = sm.add_constant(X_train_revised8)\n",
    "lr_9 = sm.OLS(y_train,X_train_lm).fit()\n",
    "lr_9.summary()"
   ]
  },
  {
   "cell_type": "code",
   "execution_count": null,
   "metadata": {},
   "outputs": [],
   "source": [
    "vif9 = pd.DataFrame()\n",
    "vif9['Feature'] = X_train_revised8.columns\n",
    "vif9['VIF'] = [variance_inflation_factor(X_train_revised8.values,i) for i in range(X_train_revised8.shape[1])]\n",
    "vif9['VIF'] = round(vif9['VIF'] , 2)\n",
    "vif9 = vif9.sort_values(by = \"VIF\", ascending = False)\n",
    "vif9"
   ]
  },
  {
   "cell_type": "markdown",
   "metadata": {},
   "source": [
    "### The R-sqaured value drops significantly (from 0.831 to 0.78.7) hence cannot remove 'clear' variable at this point atleast.  Hence, will trying to remove other variables that are correlated with 'clear' and then check the model performance."
   ]
  },
  {
   "cell_type": "code",
   "execution_count": null,
   "metadata": {},
   "outputs": [],
   "source": [
    "# Dropping the variable 'Mist + Cloudy' as it has high correlation with clear\n",
    "X_train_revised9 = X_train_revised7.drop(['Mist + Cloudy'], axis = 1)"
   ]
  },
  {
   "cell_type": "code",
   "execution_count": null,
   "metadata": {},
   "outputs": [],
   "source": [
    "X_train_lm = sm.add_constant(X_train_revised9)\n",
    "lr_10 = sm.OLS(y_train,X_train_lm).fit()\n",
    "lr_10.summary()"
   ]
  },
  {
   "cell_type": "code",
   "execution_count": null,
   "metadata": {},
   "outputs": [],
   "source": [
    "vif10 = pd.DataFrame()\n",
    "vif10['Feature'] = X_train_revised9.columns\n",
    "vif10['VIF'] = [variance_inflation_factor(X_train_revised9.values,i) for i in range(X_train_revised9.shape[1])]\n",
    "vif10['VIF'] = round(vif10['VIF'] , 2)\n",
    "vif10 = vif10.sort_values(by = \"VIF\", ascending = False)\n",
    "vif10"
   ]
  },
  {
   "cell_type": "code",
   "execution_count": null,
   "metadata": {},
   "outputs": [],
   "source": [
    "lr_10.params"
   ]
  },
  {
   "cell_type": "code",
   "execution_count": null,
   "metadata": {},
   "outputs": [],
   "source": [
    "sns.reset_orig()\n",
    "plt.figure(figsize = (20,20))\n",
    "sns.heatmap(X_train_revised9.corr(), annot = True, cmap=\"YlGnBu\")\n",
    "plt.show()"
   ]
  },
  {
   "cell_type": "code",
   "execution_count": null,
   "metadata": {},
   "outputs": [],
   "source": [
    "# Dropping the variable 'holiday' as it has a p values greater than zero and negative coefficient.\n",
    "# Will check if it makes the model better or not\n",
    "X_train_revised10 = X_train_revised9.drop(['holiday'], axis = 1)"
   ]
  },
  {
   "cell_type": "code",
   "execution_count": null,
   "metadata": {},
   "outputs": [],
   "source": [
    "X_train_lm2 = sm.add_constant(X_train_revised10)\n",
    "lr_11 = sm.OLS(y_train,X_train_lm2).fit()\n",
    "lr_11.summary()"
   ]
  },
  {
   "cell_type": "code",
   "execution_count": null,
   "metadata": {},
   "outputs": [],
   "source": [
    "vif11 = pd.DataFrame()\n",
    "vif11['Feature'] = X_train_revised10.columns\n",
    "vif11['VIF'] = [variance_inflation_factor(X_train_revised10.values,i) for i in range(X_train_revised10.shape[1])]\n",
    "vif11['VIF'] = round(vif11['VIF'] , 2)\n",
    "vif11 = vif11.sort_values(by = \"VIF\", ascending = False)\n",
    "vif11"
   ]
  },
  {
   "cell_type": "code",
   "execution_count": null,
   "metadata": {},
   "outputs": [],
   "source": [
    "lr_11.params"
   ]
  },
  {
   "cell_type": "markdown",
   "metadata": {},
   "source": [
    "### R Sqaured value of \"lr_11\" seems no better  than that of \"lr_10\".Moreover, Probability of F Statistics is lower for lr_10 (1.09e-174) as compared to lr_11(1.48e-173) .\n",
    "### Hence, lr_10 seems to be the final model as all the p values are close to zero and the VIF of all the predictor variable is low. Also the difference between the R Squared and Adjusted R Sqaured is low  0.03. Going to procede with Recidual analysis on lr_10"
   ]
  },
  {
   "cell_type": "markdown",
   "metadata": {},
   "source": [
    "## Residual analysis of the train dataset"
   ]
  },
  {
   "cell_type": "code",
   "execution_count": null,
   "metadata": {},
   "outputs": [],
   "source": [
    "y_train_pred = lr_10.predict(X_train_lm)"
   ]
  },
  {
   "cell_type": "code",
   "execution_count": null,
   "metadata": {},
   "outputs": [],
   "source": [
    "#Residual Analysis on the taining data\n",
    "# Plot the histogram of the error terms\n",
    "fig = plt.figure()\n",
    "sns.distplot((y_train - y_train_pred), hist = False)\n",
    "fig.suptitle('Error Terms', fontsize = 20)                  # Plot heading \n",
    "plt.xlabel('Errors', fontsize = 18)    "
   ]
  },
  {
   "cell_type": "code",
   "execution_count": null,
   "metadata": {},
   "outputs": [],
   "source": [
    "X_train_lm.head()"
   ]
  },
  {
   "cell_type": "code",
   "execution_count": null,
   "metadata": {},
   "outputs": [],
   "source": [
    "res = (y_train - y_train_pred)"
   ]
  },
  {
   "cell_type": "code",
   "execution_count": null,
   "metadata": {},
   "outputs": [],
   "source": [
    "res.shape"
   ]
  },
  {
   "cell_type": "code",
   "execution_count": null,
   "metadata": {},
   "outputs": [],
   "source": [
    "## Plotting Temprature V/S residual\n",
    "sns.scatterplot(X_train_lm.iloc[:,3],res)\n",
    "plt.show()"
   ]
  },
  {
   "cell_type": "code",
   "execution_count": null,
   "metadata": {},
   "outputs": [],
   "source": [
    "## Plotting Windspeed V/S residual\n",
    "sns.scatterplot(X_train_lm.iloc[:,4],res)\n",
    "plt.show()"
   ]
  },
  {
   "cell_type": "markdown",
   "metadata": {},
   "source": [
    "## Residual analysis look good as the distribution of the residual follows a close to normal curve and is centered at Zero. Moreover, the continuous variable 'temp' and windspeed  do not seem to have any relation with residual. Hence, all the assumptions of Linear regresion hold good."
   ]
  },
  {
   "cell_type": "markdown",
   "metadata": {},
   "source": [
    "# Making Predictions Using the Final Model"
   ]
  },
  {
   "cell_type": "code",
   "execution_count": null,
   "metadata": {
    "scrolled": true
   },
   "outputs": [],
   "source": [
    "df_test.head()"
   ]
  },
  {
   "cell_type": "code",
   "execution_count": null,
   "metadata": {},
   "outputs": [],
   "source": [
    "number_vars = ['cnt','temp','hum','windspeed']"
   ]
  },
  {
   "cell_type": "code",
   "execution_count": null,
   "metadata": {},
   "outputs": [],
   "source": [
    "df_test[number_vars] = scaler.transform(df_test[number_vars])"
   ]
  },
  {
   "cell_type": "code",
   "execution_count": null,
   "metadata": {},
   "outputs": [],
   "source": [
    "y_test = df_test.pop('cnt')"
   ]
  },
  {
   "cell_type": "code",
   "execution_count": null,
   "metadata": {},
   "outputs": [],
   "source": [
    "X_train_lm.columns"
   ]
  },
  {
   "cell_type": "code",
   "execution_count": null,
   "metadata": {},
   "outputs": [],
   "source": [
    "X_test = df_test[['yr', 'holiday', 'temp', 'windspeed', 'summer', 'winter',\n",
    "       'Sep', 'Clear']]"
   ]
  },
  {
   "cell_type": "code",
   "execution_count": null,
   "metadata": {},
   "outputs": [],
   "source": [
    "X_test.head()"
   ]
  },
  {
   "cell_type": "code",
   "execution_count": null,
   "metadata": {},
   "outputs": [],
   "source": [
    "X_test_lm = sm.add_constant(X_test)"
   ]
  },
  {
   "cell_type": "code",
   "execution_count": null,
   "metadata": {},
   "outputs": [],
   "source": [
    "X_test_lm.head()"
   ]
  },
  {
   "cell_type": "markdown",
   "metadata": {},
   "source": [
    "# Predictions on the Test Set with lr_10"
   ]
  },
  {
   "cell_type": "code",
   "execution_count": null,
   "metadata": {},
   "outputs": [],
   "source": [
    "y_pred = lr_10.predict(X_test_lm)"
   ]
  },
  {
   "cell_type": "code",
   "execution_count": null,
   "metadata": {},
   "outputs": [],
   "source": [
    "y_pred.head()"
   ]
  },
  {
   "cell_type": "markdown",
   "metadata": {},
   "source": [
    "### Calculating the R sqaured values of the model to concluded the model peformance"
   ]
  },
  {
   "cell_type": "code",
   "execution_count": null,
   "metadata": {},
   "outputs": [],
   "source": [
    "from sklearn.metrics import r2_score"
   ]
  },
  {
   "cell_type": "code",
   "execution_count": null,
   "metadata": {},
   "outputs": [],
   "source": [
    "r_sqaured = r2_score(y_test,y_pred )"
   ]
  },
  {
   "cell_type": "code",
   "execution_count": null,
   "metadata": {},
   "outputs": [],
   "source": [
    "r_sqaured"
   ]
  },
  {
   "cell_type": "code",
   "execution_count": null,
   "metadata": {},
   "outputs": [],
   "source": [
    "lr_10.params"
   ]
  },
  {
   "cell_type": "markdown",
   "metadata": {},
   "source": [
    "## The r_sqaured on the test data is 0.783 and the Adj. R Sqared on the training is 0.806 (difference is 0.02 which is acceptable)"
   ]
  },
  {
   "cell_type": "markdown",
   "metadata": {},
   "source": [
    "## The equation of our best fitted line is:\n",
    "\n",
    "## $ cnt = 0.542823  \\times  temp + 0.236508  \\times  yr - 0.175609 \\times windspeed + 0.121753 \\times winter +  0.097640 \\times Sep + 0.095313 \\times Clear - 0.093357 \\times holiday + 0.088988 \\times summer + 0.040798 $\n",
    "\n",
    "## What can be infered from the model is that as temprature has highest positive impact on demand increase.Moreover, the demand trend is an increasing one with year passing by.\n",
    "## Holidays and windspeed have negative impact on the demand.\n",
    "\n",
    "## Hence, going by the model BoomBikes should evalute options to increase there demand on holidays once the Coronavirus pendamic ends. Other variables dependent on the weather conditions which cannot be controlled.\n"
   ]
  }
 ],
 "metadata": {
  "kernelspec": {
   "display_name": "Python 3",
   "language": "python",
   "name": "python3"
  },
  "language_info": {
   "codemirror_mode": {
    "name": "ipython",
    "version": 3
   },
   "file_extension": ".py",
   "mimetype": "text/x-python",
   "name": "python",
   "nbconvert_exporter": "python",
   "pygments_lexer": "ipython3",
   "version": "3.7.6"
  }
 },
 "nbformat": 4,
 "nbformat_minor": 4
}
